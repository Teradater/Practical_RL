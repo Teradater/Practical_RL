{
 "cells": [
  {
   "cell_type": "markdown",
   "metadata": {},
   "source": [
    "# Here we go!\n",
    "## Lets make mountaincar first"
   ]
  },
  {
   "cell_type": "code",
   "execution_count": 1,
   "metadata": {},
   "outputs": [
    {
     "name": "stderr",
     "output_type": "stream",
     "text": [
      "2021-11-25 13:58:15.357 python[44547:20076850] Warning: Expected min height of view: (<NSPopoverTouchBarItemButton: 0x7fc1fb899960>) to be less than or equal to 30 but got a height of 32.000000. This error will be logged once per view in violation.\n",
      "2021-11-25 13:58:15.358 python[44547:20076850] Warning: Expected min height of view: (<NSButton: 0x7fc1fb95cf70>) to be less than or equal to 30 but got a height of 32.000000. This error will be logged once per view in violation.\n",
      "2021-11-25 13:58:15.361 python[44547:20076850] Warning: Expected min height of view: (<NSPopoverTouchBarItemButton: 0x7fc1fb95fd50>) to be less than or equal to 30 but got a height of 32.000000. This error will be logged once per view in violation.\n",
      "2021-11-25 13:58:15.362 python[44547:20076850] Warning: Expected min height of view: (<NSPopoverTouchBarItemButton: 0x7fc1fb96a570>) to be less than or equal to 30 but got a height of 32.000000. This error will be logged once per view in violation.\n"
     ]
    },
    {
     "name": "stdout",
     "output_type": "stream",
     "text": [
      "state vector dim = 2\n",
      "n_actions = 3\n"
     ]
    },
    {
     "data": {
      "image/png": "[encoded data removed]",
      "text/plain": [
       "<Figure size 432x288 with 1 Axes>"
      ]
     },
     "metadata": {
      "needs_background": "light"
     },
     "output_type": "display_data"
    }
   ],
   "source": [
    "import gym\n",
    "import numpy as np\n",
    "import matplotlib.pyplot as plt\n",
    "%matplotlib inline\n",
    "\n",
    "# if you see \"<classname> has no attribute .env\", remove .env or update gym\n",
    "env = gym.make(\"MountainCar-v0\").env\n",
    "\n",
    "env.reset()\n",
    "n_actions = env.action_space.n\n",
    "state_dim = env.observation_space.shape[0]\n",
    "\n",
    "plt.imshow(env.render(\"rgb_array\"))\n",
    "print(\"state vector dim =\", state_dim)\n",
    "print(\"n_actions =\", n_actions)"
   ]
  },
  {
   "cell_type": "code",
   "execution_count": 2,
   "metadata": {},
   "outputs": [],
   "source": [
    "def generate_session(agent, t_max=1000):\n",
    "    \"\"\"\n",
    "    Play a single game using agent neural network.\n",
    "    Terminate when game finishes or after :t_max: steps\n",
    "    \"\"\"\n",
    "    env = gym.make(\"MountainCar-v0\").env\n",
    "    states, actions = [], []\n",
    "    total_reward = 0\n",
    "\n",
    "    s = env.reset()\n",
    "\n",
    "    for t in range(t_max):\n",
    "        \n",
    "        # use agent to predict a vector of action probabilities for state :s:\n",
    "        probs = agent.predict_proba([s])[0]\n",
    "        \n",
    "        # use the probabilities you predicted to pick an action\n",
    "        # sample proportionally to the probabilities, don't just take the most likely action\n",
    "        a = np.random.choice(n_actions, p = probs)\n",
    "        # ^-- hint: try np.random.choice\n",
    "\n",
    "        new_s, r, done, info = env.step(a)\n",
    "\n",
    "        # record sessions like you did before\n",
    "        states.append(s)\n",
    "        actions.append(a)\n",
    "        total_reward += r\n",
    "\n",
    "        s = new_s\n",
    "        if done:\n",
    "            break\n",
    "    return states, actions, total_reward"
   ]
  },
  {
   "cell_type": "code",
   "execution_count": 1,
   "metadata": {},
   "outputs": [],
   "source": [
    "import operator\n",
    "\n",
    "def select_elites(states_batch, actions_batch, rewards_batch, percentile=50):\n",
    "    \"\"\"\n",
    "    Select states and actions from games that have rewards >= percentile\n",
    "    :param states_batch: list of lists of states, states_batch[session_i][t]\n",
    "    :param actions_batch: list of lists of actions, actions_batch[session_i][t]\n",
    "    :param rewards_batch: list of rewards, rewards_batch[session_i]\n",
    "    \"\"\"\n",
    "    reward_threshold = np.percentile(rewards_batch, percentile)\n",
    "    \n",
    "    if any(rewards_batch > reward_threshold):\n",
    "        oper = operator.gt ## >\n",
    "    else: \n",
    "        oper = operator.ge ## >=\n",
    "        \n",
    "    elite_states =  [i for i, j in zip(states_batch, rewards_batch) if oper(j, reward_threshold)]\n",
    "    elite_actions = [i for i, j in zip(actions_batch, rewards_batch) if oper(j, reward_threshold)]\n",
    "    \n",
    "    ## Flatten\n",
    "    elite_states = [i for sublist in elite_states for i in sublist]\n",
    "    elite_actions = [i for sublist in elite_actions for i in sublist]\n",
    "    \n",
    "    return elite_states, elite_actions"
   ]
  },
  {
   "cell_type": "markdown",
   "metadata": {},
   "source": [
    "# Training loop\n",
    "Generate sessions, select N best and fit to those."
   ]
  },
  {
   "cell_type": "code",
   "execution_count": 2,
   "metadata": {},
   "outputs": [],
   "source": [
    "from IPython.display import clear_output\n",
    "\n",
    "def show_progress(rewards_batch, log, percentile, reward_range=[-990, +10]):\n",
    "    \"\"\"\n",
    "    A convenience function that displays training progress. \n",
    "    No cool math here, just charts.\n",
    "    \"\"\"\n",
    "\n",
    "    mean_reward = np.mean(rewards_batch)\n",
    "    threshold = np.percentile(rewards_batch, percentile)\n",
    "    log.append([mean_reward, threshold])\n",
    "\n",
    "    clear_output(True)\n",
    "    print(\"mean reward = %.3f, threshold=%.3f\" % (mean_reward, threshold))\n",
    "    plt.figure(figsize=[8, 4])\n",
    "    plt.subplot(1, 2, 1)\n",
    "    plt.plot(list(zip(*log))[0], label='Mean rewards')\n",
    "    plt.plot(list(zip(*log))[1], label='Reward thresholds')\n",
    "    plt.legend()\n",
    "    plt.grid()\n",
    "\n",
    "    plt.subplot(1, 2, 2)\n",
    "    plt.hist(rewards_batch, range=reward_range)\n",
    "    plt.vlines([np.percentile(rewards_batch, percentile)],\n",
    "               [0], [100], label=\"percentile\", color='red')\n",
    "    plt.legend()\n",
    "    plt.grid()\n",
    "\n",
    "    plt.show()"
   ]
  },
  {
   "cell_type": "code",
   "execution_count": 2,
   "metadata": {},
   "outputs": [],
   "source": [
    "from sklearn.neural_network import MLPClassifier\n",
    "from joblib import Parallel, delayed"
   ]
  },
  {
   "cell_type": "code",
   "execution_count": 59,
   "metadata": {
    "tags": []
   },
   "outputs": [
    {
     "name": "stdout",
     "output_type": "stream",
     "text": [
      "mean reward = -131.910, threshold=-110.000\n"
     ]
    },
    {
     "data": {
      "image/png": "[encoded data removed]",
      "text/plain": [
       "<Figure size 576x288 with 2 Axes>"
      ]
     },
     "metadata": {
      "needs_background": "light"
     },
     "output_type": "display_data"
    },
    {
     "name": "stdout",
     "output_type": "stream",
     "text": [
      "first_win_i=85\n",
      "best_reward=-128.91\n"
     ]
    }
   ],
   "source": [
    "env.reset()\n",
    "\n",
    "agent = MLPClassifier(\n",
    "    hidden_layer_sizes=(20, 20),\n",
    "    activation='tanh',\n",
    "    \n",
    "    # solver='sgd',                 ## Converges extremely slowly without proper tuning\n",
    "    # learning_rate='invscaling',\n",
    "    # learning_rate='adaptive',\n",
    "    \n",
    "    # max_iter=300,  ## tried from 100 to 300 - doesn't help much\n",
    ")\n",
    "agent.partial_fit([env.reset()] * 12, [2]*10 + [1] + [0], [2]*10 + [1] + [0]) # initiate with lots of \"right\" movements\n",
    "\n",
    "n_sessions = 100\n",
    "percentile = 80\n",
    "num_of_last_sessions = 5 ## Меньше зависим от рандома. В нейронку попадает в N+1 раз больше элитных сессий, итоговый результат лучше\n",
    "zero_check = 0 if num_of_last_sessions == 0 else 100500  ## На случай, если num_of_last_sessions == 0, не будем сохранять старые сессии\n",
    "log = []\n",
    "\n",
    "cumul_states = []\n",
    "cumul_actions = []\n",
    "cumul_rewards = []\n",
    "\n",
    "is_win = False\n",
    "best_reward = -10000\n",
    "\n",
    "for i in range(150):\n",
    "    # generate new sessions\n",
    "    sessions = Parallel(n_jobs=-1)(delayed(generate_session)(agent, t_max=11000) for _ in range(n_sessions))\n",
    "    \n",
    "    states_batch, actions_batch, rewards_batch = map(lambda session: np.array(session, dtype='object'), zip(*sessions))\n",
    "    \n",
    "    curr_mean_reward = np.mean(rewards_batch)\n",
    "    if round(curr_mean_reward) == -11000:\n",
    "        raise Exception('Restart training for better initial random!')\n",
    "\n",
    "    ## Adding prev N sessions to threshold calculation\n",
    "    cumul_states =  cumul_states[-num_of_last_sessions:zero_check]  + [list(states_batch)]\n",
    "    cumul_actions = cumul_actions[-num_of_last_sessions:zero_check] + [list(actions_batch)]\n",
    "    cumul_rewards = cumul_rewards[-num_of_last_sessions:zero_check] + [list(rewards_batch)]\n",
    "\n",
    "    elite_states, elite_actions = select_elites(\n",
    "        [i for sublist in cumul_states for i in sublist], \n",
    "        [i for sublist in cumul_actions for i in sublist], \n",
    "        [i for sublist in cumul_rewards for i in sublist], \n",
    "        percentile=percentile)\n",
    "    \n",
    "    agent.partial_fit(elite_states, elite_actions)\n",
    "\n",
    "    show_progress(rewards_batch, log, percentile, reward_range=[min(0, np.min(rewards_batch)), np.max(rewards_batch)])\n",
    "\n",
    "    if curr_mean_reward > best_reward:\n",
    "        best_reward = curr_mean_reward\n",
    "        best_agent = agent\n",
    "    \n",
    "    # if np.mean(rewards_batch_curr) > -150:\n",
    "    #     print(f\"You Win! Interrupting. Iteration: {i}\")\n",
    "    #     break\n",
    "    \n",
    "    if (curr_mean_reward > -150) & (~is_win):\n",
    "        first_win_i = i\n",
    "        is_win = True\n",
    "        \n",
    "print(f'{first_win_i=}')\n",
    "print(f'{best_reward=}')"
   ]
  },
  {
   "cell_type": "code",
   "execution_count": 37,
   "metadata": {},
   "outputs": [],
   "source": [
    "## num_of_last_sessions = 0, first_win_i=140, final -143.580, best -143.58\n",
    "## num_of_last_sessions = 3, first_win_i=94,  final -132.330, best -131.53\n",
    "## num_of_last_sessions = 5, first_win_i=85,  final -131.910, best -128.91\n",
    "## For more complex MLP (256, 256, 128) results were almost equally good for every num_of_last_sessions"
   ]
  },
  {
   "cell_type": "code",
   "execution_count": 60,
   "metadata": {},
   "outputs": [],
   "source": [
    "agent = best_agent"
   ]
  },
  {
   "cell_type": "code",
   "execution_count": 61,
   "metadata": {},
   "outputs": [
    {
     "data": {
      "image/png": "[encoded data removed]",
      "text/plain": [
       "<Figure size 504x504 with 1 Axes>"
      ]
     },
     "metadata": {
      "needs_background": "light"
     },
     "output_type": "display_data"
    }
   ],
   "source": [
    "def visualize_mountain_car(env, agent):\n",
    "    # Compute policy for all possible x and v (with discretization)\n",
    "    xs = np.linspace(env.min_position, env.max_position, 100)\n",
    "    vs = np.linspace(-env.max_speed, env.max_speed, 100)\n",
    "    \n",
    "    grid = np.dstack(np.meshgrid(xs, vs[::-1])).transpose(1, 0, 2)\n",
    "    grid_flat = grid.reshape(len(xs) * len(vs), 2)\n",
    "    probs = agent.predict_proba(grid_flat).reshape(len(xs), len(vs), 3).transpose(1, 0, 2)\n",
    "\n",
    "    # # The above code is equivalent to the following:\n",
    "    # probs = np.empty((len(vs), len(xs), 3))\n",
    "    # for i, v in enumerate(vs[::-1]):\n",
    "    #     for j, x in enumerate(xs):\n",
    "    #         probs[i, j, :] = agent.predict_proba([[x, v]])[0]\n",
    "\n",
    "    # Draw policy\n",
    "    f, ax = plt.subplots(figsize=(7, 7))\n",
    "    ax.imshow(probs, extent=(env.min_position, env.max_position, -env.max_speed, env.max_speed), aspect='auto')\n",
    "    ax.set_title('Learned policy: red=left, green=nothing, blue=right')\n",
    "    ax.set_xlabel('position (x)')\n",
    "    ax.set_ylabel('velocity (v)')\n",
    "    \n",
    "    # Sample a trajectory and draw it\n",
    "    states, actions, _ = generate_session(agent)\n",
    "    states = np.array(states)\n",
    "    ax.plot(states[:, 0], states[:, 1], color='white')\n",
    "    \n",
    "    # Draw every 3rd action from the trajectory\n",
    "    for (x, v), a in zip(states[::3], actions[::3]):\n",
    "        if a == 0:\n",
    "            plt.arrow(x, v, -0.1, 0, color='white', head_length=0.02)\n",
    "        elif a == 2:\n",
    "            plt.arrow(x, v, 0.1, 0, color='white', head_length=0.02)\n",
    "\n",
    "with gym.make('MountainCar-v0').env as env:\n",
    "    visualize_mountain_car(env, agent)"
   ]
  },
  {
   "cell_type": "markdown",
   "metadata": {},
   "source": [
    "# LunarLander-v2"
   ]
  },
  {
   "cell_type": "markdown",
   "metadata": {},
   "source": [
    "- Основной трюк - выставить побольше шагов в каждой игре. При 20к уже начинает сходиться\n",
    "- Архитектура сети тоже значительно сложнее"
   ]
  },
  {
   "cell_type": "code",
   "execution_count": 4,
   "metadata": {},
   "outputs": [
    {
     "name": "stderr",
     "output_type": "stream",
     "text": [
      "2021-11-25 14:30:58.764 python[44874:20110177] Warning: Expected min height of view: (<NSPopoverTouchBarItemButton: 0x7f8b76ddd1b0>) to be less than or equal to 30 but got a height of 32.000000. This error will be logged once per view in violation.\n",
      "2021-11-25 14:30:58.764 python[44874:20110177] Warning: Expected min height of view: (<NSButton: 0x7f8b7702c860>) to be less than or equal to 30 but got a height of 32.000000. This error will be logged once per view in violation.\n",
      "2021-11-25 14:30:58.767 python[44874:20110177] Warning: Expected min height of view: (<NSPopoverTouchBarItemButton: 0x7f8b76f6fa10>) to be less than or equal to 30 but got a height of 32.000000. This error will be logged once per view in violation.\n",
      "2021-11-25 14:30:58.768 python[44874:20110177] Warning: Expected min height of view: (<NSPopoverTouchBarItemButton: 0x7f8b7742f310>) to be less than or equal to 30 but got a height of 32.000000. This error will be logged once per view in violation.\n"
     ]
    },
    {
     "name": "stdout",
     "output_type": "stream",
     "text": [
      "state vector dim = 8\n",
      "n_actions = 4\n"
     ]
    },
    {
     "data": {
      "image/png": "[encoded data removed]",
      "text/plain": [
       "<Figure size 432x288 with 1 Axes>"
      ]
     },
     "metadata": {
      "needs_background": "light"
     },
     "output_type": "display_data"
    }
   ],
   "source": [
    "import gym\n",
    "import numpy as np\n",
    "import matplotlib.pyplot as plt\n",
    "%matplotlib inline\n",
    "\n",
    "# if you see \"<classname> has no attribute .env\", remove .env or update gym\n",
    "env = gym.make(\"LunarLander-v2\").env\n",
    "\n",
    "env.reset()\n",
    "n_actions = env.action_space.n\n",
    "state_dim = env.observation_space.shape[0]\n",
    "\n",
    "plt.imshow(env.render(\"rgb_array\"))\n",
    "print(\"state vector dim =\", state_dim)\n",
    "print(\"n_actions =\", n_actions)"
   ]
  },
  {
   "cell_type": "code",
   "execution_count": 20,
   "metadata": {},
   "outputs": [],
   "source": [
    "def generate_session(agent, t_max=1000):\n",
    "    \"\"\"\n",
    "    Play a single game using agent neural network.\n",
    "    Terminate when game finishes or after :t_max: steps\n",
    "    \"\"\"\n",
    "    env = gym.make(\"LunarLander-v2\").env\n",
    "    states, actions = [], []\n",
    "    total_reward = 0\n",
    "\n",
    "    s = env.reset()\n",
    "\n",
    "    for t in range(t_max):\n",
    "        \n",
    "        # use agent to predict a vector of action probabilities for state :s:\n",
    "        probs = agent.predict_proba([s])[0]\n",
    "        \n",
    "        # use the probabilities you predicted to pick an action\n",
    "        a = np.random.choice(n_actions, p = probs)\n",
    "\n",
    "        new_s, r, done, info = env.step(a)\n",
    "\n",
    "        # record sessions like you did before\n",
    "        states.append(s)\n",
    "        actions.append(a)\n",
    "        total_reward += r\n",
    "\n",
    "        s = new_s\n",
    "        if done:\n",
    "            break\n",
    "            \n",
    "    return states, actions, total_reward"
   ]
  },
  {
   "cell_type": "code",
   "execution_count": 30,
   "metadata": {
    "tags": []
   },
   "outputs": [
    {
     "name": "stdout",
     "output_type": "stream",
     "text": [
      "mean reward = 217.914, threshold=243.321\n"
     ]
    },
    {
     "data": {
      "image/png": "[encoded data removed]",
      "text/plain": [
       "<Figure size 576x288 with 2 Axes>"
      ]
     },
     "metadata": {
      "needs_background": "light"
     },
     "output_type": "display_data"
    },
    {
     "name": "stdout",
     "output_type": "stream",
     "text": [
      "best_reward=242.43475399688003\n",
      "first_win_i=51\n",
      "first_win_i_v2=51\n"
     ]
    }
   ],
   "source": [
    "from sklearn.neural_network import MLPClassifier\n",
    "\n",
    "env.reset()\n",
    "\n",
    "agent = MLPClassifier(\n",
    "    hidden_layer_sizes= (256, 256, 128), # (256, 256, 128), ## almost works with num_of_last_elites = 0\n",
    "    activation='tanh',\n",
    "    # learning_rate='adaptive',\n",
    "    max_iter=250,\n",
    ")\n",
    "agent.partial_fit([env.reset()] * n_actions, list(range(n_actions)), list(range(n_actions))) \n",
    "\n",
    "n_sessions = 100\n",
    "percentile = 50\n",
    "num_of_last_sessions = 1 ## Меньше зависим от рандома. В нейронку попадает в N+1 раз больше элитных сессий, итоговый результат лучше\n",
    "zero_check = 0 if num_of_last_sessions == 0 else 100500  ## На случай, если num_of_last_sessions == 0, не будем сохранять старые сессии\n",
    "log = []\n",
    "\n",
    "cumul_states = []\n",
    "cumul_actions = []\n",
    "cumul_rewards = []\n",
    "\n",
    "is_win = False\n",
    "best_reward = -10000\n",
    "\n",
    "for i in range(150):\n",
    "    # generate new sessions\n",
    "    sessions = Parallel(n_jobs=-1)(delayed(generate_session)(agent, t_max=20000) for _ in range(n_sessions))\n",
    "    \n",
    "    states_batch, actions_batch, rewards_batch = map(lambda session: np.array(session, dtype='object'), zip(*sessions))\n",
    "    \n",
    "    curr_mean_reward = np.mean(rewards_batch)\n",
    "\n",
    "    ## Adding prev N sessions to threshold calculation\n",
    "    cumul_states =  cumul_states[-num_of_last_sessions:zero_check]  + [list(states_batch)]\n",
    "    cumul_actions = cumul_actions[-num_of_last_sessions:zero_check] + [list(actions_batch)]\n",
    "    cumul_rewards = cumul_rewards[-num_of_last_sessions:zero_check] + [list(rewards_batch)]\n",
    "\n",
    "    elite_states, elite_actions = select_elites(\n",
    "        [i for sublist in cumul_states for i in sublist], \n",
    "        [i for sublist in cumul_actions for i in sublist], \n",
    "        [i for sublist in cumul_rewards for i in sublist], \n",
    "        percentile=percentile)\n",
    "    \n",
    "    agent.partial_fit(elite_states, elite_actions)\n",
    "\n",
    "    show_progress(rewards_batch, log, percentile, reward_range=[min(0, np.min(rewards_batch)), np.max(rewards_batch)])\n",
    "\n",
    "    if curr_mean_reward > best_reward:\n",
    "        best_reward = curr_mean_reward\n",
    "        best_agent = agent\n",
    "    \n",
    "    \n",
    "    # if np.mean(rewards_batch_curr) > 50:\n",
    "    #     print(f\"You Win! Interrupting. Iteration: {i}\")\n",
    "    #     break\n",
    "    \n",
    "    if (curr_mean_reward > 50) & (~is_win):\n",
    "        first_win_i = i\n",
    "        is_win = True\n",
    "        \n",
    "first_win_i_v2 = np.argmax(np.array([i for i, j in log]) > 50)  ## Извлекаю из логов на случай, если продолжаю обучение не с начала\n",
    "print(f'{best_reward=}')\n",
    "print(f'{first_win_i=}')\n",
    "print(f'{first_win_i_v2=}')"
   ]
  },
  {
   "cell_type": "code",
   "execution_count": 32,
   "metadata": {},
   "outputs": [],
   "source": [
    "agent = best_agent"
   ]
  },
  {
   "cell_type": "code",
   "execution_count": 35,
   "metadata": {},
   "outputs": [
    {
     "data": {
      "image/png": "[encoded data removed]",
      "text/plain": [
       "<Figure size 576x432 with 1 Axes>"
      ]
     },
     "metadata": {
      "needs_background": "light"
     },
     "output_type": "display_data"
    }
   ],
   "source": [
    "from IPython import display\n",
    "\n",
    "plt.figure(figsize=(8, 6))\n",
    "display.clear_output(wait=True)\n",
    "\n",
    "s = env.reset()\n",
    "for t in range(20000):\n",
    "    plt.gca().clear()\n",
    "    \n",
    "    probs = agent.predict_proba([s])[0]\n",
    "    a = np.random.choice(n_actions, p = probs)\n",
    "    s, _, done, _ = env.step(a)\n",
    "\n",
    "    # Draw game image on display.\n",
    "    plt.imshow(env.render('rgb_array'))\n",
    "    \n",
    "    display.display(plt.gcf())\n",
    "    display.clear_output(wait=True)\n",
    "\n",
    "    if done:\n",
    "        print(\"Well done!\")\n",
    "        break\n",
    "else:\n",
    "    print(\"Time limit exceeded. Try again.\")\n",
    "\n",
    "display.clear_output(wait=True)"
   ]
  },
  {
   "cell_type": "code",
   "execution_count": null,
   "metadata": {},
   "outputs": [],
   "source": []
  },
  {
   "cell_type": "markdown",
   "metadata": {
    "tags": []
   },
   "source": [
    "# MountainCarContinuous-v0"
   ]
  },
  {
   "cell_type": "markdown",
   "metadata": {},
   "source": [
    "Эта задачка значительно проще, чем LunarLander, поэтому её решил первой.\n",
    "\n",
    "В лунной задаче уже будет более правильное и продвинутое решение, но для тачки хватит и того что есть здесь\n",
    "- Рандомим первые несколько итераций, причем с каждой итерацией число рандомных шагов сокращается\n",
    "- После рандомных шагов начинаем предсказывать агентом\n",
    "- К этим предсказаниям добавляем случайный шум, привносящий долю исследования"
   ]
  },
  {
   "cell_type": "code",
   "execution_count": 1,
   "metadata": {},
   "outputs": [],
   "source": [
    "import gym\n",
    "import numpy as np\n",
    "import matplotlib.pyplot as plt\n",
    "import random\n",
    "\n",
    "%matplotlib inline\n",
    "\n",
    "# if you see \"<classname> has no attribute .env\", remove .env or update gym\n",
    "env = gym.make(\"MountainCarContinuous-v0\").env"
   ]
  },
  {
   "cell_type": "code",
   "execution_count": 94,
   "metadata": {},
   "outputs": [],
   "source": [
    "def generate_session(agent, rand_steps, t_max=1000):\n",
    "    \"\"\"\n",
    "    Play a single game using agent neural network.\n",
    "    Terminate when game finishes or after :t_max: steps\n",
    "    \"\"\"\n",
    "    env = gym.make(\"MountainCarContinuous-v0\").env\n",
    "    states, actions = [], []\n",
    "    total_reward = 0\n",
    "\n",
    "    s = env.reset()\n",
    "    \n",
    "    bound_low =  env.action_space.low[0]\n",
    "    bound_high = env.action_space.high[0]\n",
    "\n",
    "    for t in range(t_max):\n",
    "        if t >= rand_steps:\n",
    "            a = agent.predict([s])[0] + random.normalvariate(0, 0.3) ## adding some noise to predictions\n",
    "            a = [min(max(a, bound_low), bound_high)]\n",
    "        else:\n",
    "            a = np.random.rand(1)[0]*2-1\n",
    "\n",
    "        new_s, r, done, info = env.step(a)\n",
    "\n",
    "        # record sessions like you did before\n",
    "        states.append(s)\n",
    "        actions.append(a)\n",
    "        total_reward += r\n",
    "\n",
    "        s = new_s\n",
    "        if done:\n",
    "            break\n",
    "    return states, actions, total_reward"
   ]
  },
  {
   "cell_type": "code",
   "execution_count": 98,
   "metadata": {
    "tags": []
   },
   "outputs": [
    {
     "name": "stdout",
     "output_type": "stream",
     "text": [
      "mean reward = 94.560, threshold=95.471\n"
     ]
    },
    {
     "data": {
      "image/png": "[encoded data removed]",
      "text/plain": [
       "<Figure size 576x288 with 2 Axes>"
      ]
     },
     "metadata": {
      "needs_background": "light"
     },
     "output_type": "display_data"
    },
    {
     "name": "stdout",
     "output_type": "stream",
     "text": [
      "first_win_i=24\n",
      "best_reward=94.61568881563191\n"
     ]
    }
   ],
   "source": [
    "env.reset()\n",
    "\n",
    "from sklearn.neural_network import MLPRegressor\n",
    "\n",
    "agent = MLPRegressor(\n",
    "    hidden_layer_sizes=(32, 32, 16),\n",
    "    activation='tanh',\n",
    ")\n",
    "\n",
    "agent.partial_fit(\n",
    "    np.zeros(env.observation_space.shape).reshape(1, -1),\n",
    "    np.zeros(env.action_space.shape)\n",
    ")\n",
    "    \n",
    "n_sessions = 100\n",
    "percentile = 80\n",
    "num_of_last_sessions = 1 ## Меньше зависим от рандома. В нейронку попадает в N+1 раз больше элитных сессий, итоговый результат лучше\n",
    "zero_check = 0 if num_of_last_sessions == 0 else 100500  ## На случай, если num_of_last_sessions == 0, не будем сохранять старые сессии\n",
    "log = []\n",
    "\n",
    "cumul_states = []\n",
    "cumul_actions = []\n",
    "cumul_rewards = []\n",
    "\n",
    "is_win = False\n",
    "best_reward = -10000\n",
    "    \n",
    "max_rand_steps = 200\n",
    "min_rand_steps = 0\n",
    "decay_rand_steps = 20\n",
    "    \n",
    "for i in range(50):\n",
    "    rand_steps = max(min_rand_steps, max_rand_steps - min(max_rand_steps, i*decay_rand_steps))\n",
    "    \n",
    "    # generate new sessions\n",
    "    sessions = Parallel(n_jobs=-1)(delayed(generate_session)(agent, rand_steps, t_max=11000) for _ in range(n_sessions))\n",
    "    \n",
    "    states_batch, actions_batch, rewards_batch = map(lambda session: np.array(session, dtype='object'), zip(*sessions))\n",
    "    \n",
    "    curr_mean_reward = np.mean(rewards_batch)\n",
    "    if round(curr_mean_reward) == -11000:\n",
    "        raise Exception('Restart training for better initial random!')\n",
    "\n",
    "    ## Adding prev N sessions to threshold calculation\n",
    "    cumul_states =  cumul_states[-num_of_last_sessions:zero_check]  + [list(states_batch)]\n",
    "    cumul_actions = cumul_actions[-num_of_last_sessions:zero_check] + [list(actions_batch)]\n",
    "    cumul_rewards = cumul_rewards[-num_of_last_sessions:zero_check] + [list(rewards_batch)]\n",
    "\n",
    "    elite_states, elite_actions = select_elites(\n",
    "        [i for sublist in cumul_states for i in sublist], \n",
    "        [i for sublist in cumul_actions for i in sublist], \n",
    "        [i for sublist in cumul_rewards for i in sublist], \n",
    "        percentile=percentile)\n",
    "    \n",
    "    agent.partial_fit(elite_states, elite_actions)\n",
    "\n",
    "    show_progress(rewards_batch, log, percentile, reward_range=[min(0, np.min(rewards_batch)), np.max(rewards_batch)])\n",
    "\n",
    "    if curr_mean_reward > best_reward:\n",
    "        best_reward = curr_mean_reward\n",
    "        best_agent = agent\n",
    "    \n",
    "    # if np.mean(rewards_batch_curr) > 90:\n",
    "    #     print(f\"You Win! Interrupting. Iteration: {i}\")\n",
    "    #     break\n",
    "    \n",
    "    if (curr_mean_reward > 90) & (~is_win):\n",
    "        first_win_i = i\n",
    "        is_win = True\n",
    "        \n",
    "print(f'{first_win_i=}')\n",
    "print(f'{best_reward=}')"
   ]
  },
  {
   "cell_type": "code",
   "execution_count": null,
   "metadata": {},
   "outputs": [],
   "source": []
  },
  {
   "cell_type": "code",
   "execution_count": null,
   "metadata": {},
   "outputs": [],
   "source": []
  },
  {
   "cell_type": "code",
   "execution_count": null,
   "metadata": {},
   "outputs": [],
   "source": []
  },
  {
   "cell_type": "markdown",
   "metadata": {
    "tags": []
   },
   "source": [
    "# LunarLanderContinuous-v2"
   ]
  },
  {
   "cell_type": "markdown",
   "metadata": {},
   "source": [
    "- Много времени ушло на ускорение процесса генерации сессий. Всё что можно было вынести из цикла For - было вынесено.\n",
    "- Просветление наступило от статьи https://habr.com/ru/company/hsespb/blog/444428/\n",
    "- Правильно задаем функцию, которая будет создавать рандомный шум\n",
    "  - Во-первых, внутри итерации на каждом шаге либо предсказываем агентом, либо делаем случайное действие\n",
    "  - Во-вторых, с каждым шагом вероятность выбрать случайное действие вместо агента снижается с max_epsilon до min_epsilon\n",
    "  - В-третьих, с каждой итерацией амплитуда случайного шума снижается - иначе так и не сможем сойтись\n",
    "- Количество шагов в каждой итерации делаем небольшим, около 600. Аппарат вообще должен садиться за 100-200 шагов, больше 600 не имеет смысла.\n",
    "- Количество итераций делаем побольше - чтобы агент успел потренироваться с шумом большой амплитуды\n",
    "  - На поздник итерациях шум снижается почти до нуля - и это позволит агенту отвыкнуть от постоянного шума\n",
    "  - Если остановить процесс сразу после сходжения к среднему=200, то без добавления шума агент просто не сможет приземлить аппарат"
   ]
  },
  {
   "cell_type": "code",
   "execution_count": 103,
   "metadata": {},
   "outputs": [],
   "source": [
    "def make_some_noise(t_max, curr_iter):\n",
    "    '''\n",
    "    Генерируем случайный шум отдельно для бокового и главного двигателей\n",
    "    Затем обнуляем шум случайным образом в зависимости от того, на каком шаге находимся\n",
    "    Сначала оставляем max_epsilon строк, под конец необнуленными остаются всего min_epsilon строк\n",
    "    '''\n",
    "    \n",
    "    left_right = np.random.uniform(0.5, 1, t_max) * np.random.choice([-1,1], t_max)\n",
    "    up_down = np.random.uniform(-0.7, 0.7, t_max)\n",
    "    random_noise = list(zip(up_down, left_right))\n",
    "\n",
    "    decay_noise = 0.997\n",
    "    decay_noise = [decay_noise**curr_iter for _ in range(t_max)]\n",
    "    \n",
    "    max_epsilon = 0.5\n",
    "    min_epsilon = 0.1\n",
    "    decay_epsilon = 1 ## 0.996\n",
    "\n",
    "    epsilon = [\n",
    "        (max_epsilon - (max_epsilon - min_epsilon)* t / t_max) # * (decay_epsilon**curr_iter)\n",
    "        for t in range(t_max)\n",
    "    ]\n",
    "    \n",
    "    random_noise = [\n",
    "        [n * noise_mult for n in noise] if rand_num < eps else [0,0] \n",
    "        for noise, eps, rand_num, noise_mult\n",
    "        in zip(random_noise, epsilon, np.random.rand(t_max), decay_noise)\n",
    "    ]\n",
    "    \n",
    "    return random_noise"
   ]
  },
  {
   "cell_type": "code",
   "execution_count": 104,
   "metadata": {},
   "outputs": [],
   "source": [
    "def generate_session(agent, curr_iter, t_max=1000):\n",
    "    \"\"\"\n",
    "    Play a single game using agent neural network.\n",
    "    Terminate when game finishes or after :t_max: steps\n",
    "    \"\"\"\n",
    "    env = gym.make(\"LunarLanderContinuous-v2\").env\n",
    "    states, actions = [], []\n",
    "    total_reward = 0\n",
    "\n",
    "    s = env.reset()\n",
    "    \n",
    "    bound_low =  env.action_space.low\n",
    "    bound_high = env.action_space.high\n",
    "    \n",
    "    random_noise = make_some_noise(t_max, curr_iter)\n",
    "\n",
    "    for t in range(t_max):\n",
    "        a = [min(max(i, j), k) for i,j,k in zip(\n",
    "            agent.predict([s])[0] + random_noise[t], \n",
    "            bound_low, \n",
    "            bound_high)\n",
    "            ]\n",
    "\n",
    "        states.append(s)\n",
    "        actions.append(a)\n",
    "        \n",
    "        s, r, done, info = env.step(a)\n",
    "\n",
    "        total_reward += r\n",
    "        if done:\n",
    "            break\n",
    "            \n",
    "    return states, actions, total_reward"
   ]
  },
  {
   "cell_type": "code",
   "execution_count": 76,
   "metadata": {
    "tags": []
   },
   "outputs": [
    {
     "name": "stdout",
     "output_type": "stream",
     "text": [
      "mean reward = 236.478, threshold=281.072\n"
     ]
    },
    {
     "data": {
      "image/png": "[encoded data removed]",
      "text/plain": [
       "<Figure size 1152x288 with 2 Axes>"
      ]
     },
     "metadata": {
      "needs_background": "light"
     },
     "output_type": "display_data"
    },
    {
     "name": "stdout",
     "output_type": "stream",
     "text": [
      "first_win_i=257\n",
      "best_reward=259.15382750496906\n"
     ]
    }
   ],
   "source": [
    "env.reset()\n",
    "\n",
    "from sklearn.neural_network import MLPRegressor\n",
    "\n",
    "agent = MLPRegressor(\n",
    "    hidden_layer_sizes=(400, 200),#(256, 256, 128),\n",
    "    activation='tanh',\n",
    ")\n",
    "\n",
    "agent.partial_fit(\n",
    "    np.zeros(env.observation_space.shape).reshape(1, -1),\n",
    "    np.zeros(env.action_space.shape).reshape(1, -1)\n",
    ")\n",
    "    \n",
    "n_sessions = 100\n",
    "percentile = 75\n",
    "num_of_last_sessions = 2 ## Меньше зависим от рандома. В нейронку попадает в N+1 раз больше элитных сессий, итоговый результат лучше\n",
    "zero_check = 0 if num_of_last_sessions == 0 else 100500  ## На случай, если num_of_last_sessions == 0, не будем сохранять старые сессии\n",
    "log = []\n",
    "\n",
    "cumul_states = []\n",
    "cumul_actions = []\n",
    "cumul_rewards = []\n",
    "\n",
    "is_win = False\n",
    "best_reward = -10000\n",
    "\n",
    "all_steps = 700\n",
    "\n",
    "## Number of max steps for each game. Gradually increasing in each iteration\n",
    "## Don't make it big: all good tries usually end in first hundrends, at it takes A LOT of time to generate thousands of steps\n",
    "t_max_start = 600\n",
    "t_max_end = 800\n",
    "\n",
    "## t_max will be in logspace to speed up first iterations\n",
    "t_max_list = np.logspace(np.log10(t_max_start), np.log10(t_max_end), num=all_steps, dtype='int')\n",
    "    \n",
    "for i in range(all_steps):\n",
    "    sessions = Parallel(n_jobs=-1)(delayed(generate_session)(agent, i, t_max=t_max_list[i]) for _ in range(n_sessions))\n",
    "    \n",
    "    states_batch, actions_batch, rewards_batch = map(lambda session: np.array(session, dtype='object'), zip(*sessions))\n",
    "    \n",
    "    curr_mean_reward = np.mean(rewards_batch)\n",
    "\n",
    "    ## Adding prev N sessions to threshold calculation\n",
    "    cumul_states =  cumul_states[-num_of_last_sessions:zero_check]  + [list(states_batch)]\n",
    "    cumul_actions = cumul_actions[-num_of_last_sessions:zero_check] + [list(actions_batch)]\n",
    "    cumul_rewards = cumul_rewards[-num_of_last_sessions:zero_check] + [list(rewards_batch)]\n",
    "\n",
    "    elite_states, elite_actions = select_elites(\n",
    "        [i for sublist in cumul_states for i in sublist], \n",
    "        [i for sublist in cumul_actions for i in sublist], \n",
    "        [i for sublist in cumul_rewards for i in sublist], \n",
    "        percentile=percentile)\n",
    "    \n",
    "    agent.partial_fit(elite_states, elite_actions)\n",
    "\n",
    "    show_progress(rewards_batch, log, percentile, reward_range=[min(0, np.min(rewards_batch)), np.max(rewards_batch)])\n",
    "\n",
    "    if curr_mean_reward > best_reward:\n",
    "        best_reward = curr_mean_reward\n",
    "        best_agent = agent\n",
    "    \n",
    "    # if np.mean(rewards_batch_curr) > 200:\n",
    "    #     print(f\"You Win! Interrupting. Iteration: {i}\")\n",
    "    #     break\n",
    "    \n",
    "    if (curr_mean_reward > 200) & (~is_win):\n",
    "        first_win_i = i\n",
    "        is_win = True\n",
    "        \n",
    "    gc.collect()\n",
    "\n",
    "print(f'{first_win_i=}')\n",
    "print(f'{best_reward=}')"
   ]
  },
  {
   "cell_type": "code",
   "execution_count": null,
   "metadata": {},
   "outputs": [],
   "source": []
  },
  {
   "cell_type": "code",
   "execution_count": 88,
   "metadata": {},
   "outputs": [
    {
     "name": "stdout",
     "output_type": "stream",
     "text": [
      "262.0447259346034\n",
      "272\n"
     ]
    },
    {
     "data": {
      "image/png": "[encoded data removed]",
      "text/plain": [
       "<Figure size 576x432 with 1 Axes>"
      ]
     },
     "metadata": {
      "needs_background": "light"
     },
     "output_type": "display_data"
    }
   ],
   "source": [
    "from IPython import display\n",
    "\n",
    "plt.figure(figsize=(8, 6))\n",
    "display.clear_output(wait=True)\n",
    "\n",
    "s = env.reset()\n",
    "\n",
    "tr = 0\n",
    "\n",
    "t_max = 700\n",
    "\n",
    "bound_low =  env.action_space.low\n",
    "bound_high = env.action_space.high\n",
    "\n",
    "## Same noise as in generate_sessions\n",
    "random_noise = make_some_noise(t_max, t_max)\n",
    "\n",
    "\n",
    "for t in range(t_max):\n",
    "    plt.gca().clear()\n",
    "    \n",
    "    a = [min(max(i, j), k) for i,j,k in zip(\n",
    "        agent.predict([s])[0] + random_noise[t], \n",
    "        bound_low, \n",
    "        bound_high)\n",
    "        ]\n",
    "\n",
    "    # a = agent.predict([s])[0]\n",
    "    \n",
    "    s, r, done, _ = env.step(a)\n",
    "    tr += r\n",
    "\n",
    "    # Draw game image on display.\n",
    "    plt.imshow(env.render('rgb_array'))\n",
    "    \n",
    "    ## Закомменть следующие строки, чтобы ускорить отрисовку в открытом неподалеку окне\n",
    "    display.display(plt.gcf())\n",
    "    display.clear_output(wait=True)\n",
    "    # print(a)\n",
    "\n",
    "    if done:\n",
    "        print(\"Well done!\")\n",
    "        break\n",
    "else:\n",
    "    print(\"Time limit exceeded. Try again.\")\n",
    "\n",
    "display.clear_output(wait=True)\n",
    "print(tr)\n",
    "print(t)"
   ]
  },
  {
   "cell_type": "code",
   "execution_count": null,
   "metadata": {},
   "outputs": [],
   "source": []
  },
  {
   "cell_type": "markdown",
   "metadata": {
    "tags": []
   },
   "source": [
    "# LunarLanderContinuous-v2 - неоптимальное решение"
   ]
  },
  {
   "cell_type": "markdown",
   "metadata": {},
   "source": [
    "Моё первоначальное решение. Очень неоптимальное, финальный агент сильно зависит от рандомного шума\n",
    "- Оптимально будет потом переделать через Q Learning\n",
    "- Через кросс-энтропию пришлось как следует разобраться в свойствах этой игры\n",
    "- Приходится генерировать случайный шум отдельно для боковых и вертикальных движений\n",
    "- Сначала шум работает в полную силу, и после устаканивания агента шум начинает обрезаться\n",
    "- Без такого сильного шума модель наконец сходится к 200"
   ]
  },
  {
   "cell_type": "code",
   "execution_count": 8,
   "metadata": {},
   "outputs": [],
   "source": [
    "import gc\n",
    "import gym\n",
    "import numpy as np\n",
    "import matplotlib.pyplot as plt\n",
    "import random\n",
    "\n",
    "%matplotlib inline\n",
    "\n",
    "# if you see \"<classname> has no attribute .env\", remove .env or update gym\n",
    "env = gym.make(\"LunarLanderContinuous-v2\").env\n"
   ]
  },
  {
   "cell_type": "code",
   "execution_count": 4,
   "metadata": {},
   "outputs": [],
   "source": [
    "from IPython.display import clear_output\n",
    "\n",
    "def show_progress(rewards_batch, log, percentile, reward_range=[-990, +10], is_clear_output=True):\n",
    "    \"\"\"\n",
    "    A convenience function that displays training progress. \n",
    "    No cool math here, just charts.\n",
    "    \"\"\"\n",
    "\n",
    "    mean_reward = np.mean(rewards_batch)\n",
    "    threshold = np.percentile(rewards_batch, percentile)\n",
    "    log.append([mean_reward, threshold])\n",
    "\n",
    "#     if is_clear_output:\n",
    "#         clear_output(True)\n",
    "#     print(\"mean reward = %.3f, threshold=%.3f\" % (mean_reward, threshold))\n",
    "    plt.figure(figsize=[16, 4])\n",
    "    plt.subplot(1, 2, 1)\n",
    "    plt.plot(list(zip(*log))[0], label='Mean rewards')\n",
    "    plt.plot(list(zip(*log))[1], label='Reward thresholds')\n",
    "    plt.legend()\n",
    "    plt.grid()\n",
    "\n",
    "    plt.subplot(1, 2, 2)\n",
    "    plt.hist(rewards_batch, range=reward_range)\n",
    "    plt.vlines([np.percentile(rewards_batch, percentile)],\n",
    "               [0], [100], label=\"percentile\", color='red')\n",
    "    plt.legend()\n",
    "    plt.grid()\n",
    "\n",
    "    if is_clear_output:\n",
    "        clear_output(True)\n",
    "    print(\"mean reward = %.3f, threshold=%.3f\" % (mean_reward, threshold))\n",
    "    \n",
    "    plt.show()"
   ]
  },
  {
   "cell_type": "code",
   "execution_count": 577,
   "metadata": {},
   "outputs": [],
   "source": [
    "def make_some_noise(t_max, best_reward):\n",
    "    ## ------------------------------------------\n",
    "    ## Movement from left to right\n",
    "    left_right = []\n",
    "    left_right_sign = 1\n",
    "\n",
    "    ## For some steps (cnt_rows) we will move only in one direction, then change direction \n",
    "    while len(left_right) < t_max:\n",
    "        cnt_rows = int(np.random.uniform(1, 6))\n",
    "        left_right += list(np.random.uniform(0.2, 1, cnt_rows) * left_right_sign) ## some small movements\n",
    "        left_right_sign *= -1\n",
    "\n",
    "    ## Tricky part: initial iterations will use maximum values left-right noise untill we establish stable agent\n",
    "    ## First half (1/lr_mult_speed) of steps will use left_right noise, others will be filled with zeros\n",
    "    ## The first half noise also decays from 1 to 0 equally for each step\n",
    "    if best_reward >= 80:\n",
    "    # if best_reward >= 100:\n",
    "\n",
    "        ## Decrese noise in first 1/2 steps from 100% to 0%\n",
    "        lr_mult_speed = 2  ## 3 converges even faster\n",
    "\n",
    "        lr_mult = np.arange(len(left_right)//lr_mult_speed, 0, step=-1) / (len(left_right)//lr_mult_speed)\n",
    "\n",
    "        ## noise for other 1/2 steps is zero\n",
    "        lr_mult = np.concatenate((lr_mult, np.zeros(len(left_right) - len(lr_mult))))\n",
    "\n",
    "        left_right *= lr_mult\n",
    "\n",
    "\n",
    "    ## ------------------------------------------\n",
    "    ## Movement for main engine (upper movement)\n",
    "\n",
    "    ## Initial noise\n",
    "    up_down = np.random.uniform(-0.7, 0.7, len(left_right))\n",
    "\n",
    "    ## Once again - untill we establish stable agent we will not decrease noise much\n",
    "    if best_reward >= 60:\n",
    "\n",
    "        ## Decrese noise in first 1/3 steps from 100% to 0%\n",
    "        up_down_mult_speed = 3\n",
    "        up_down_mult = np.arange(len(up_down)//up_down_mult_speed, 0, step=-1) / (len(up_down)//up_down_mult_speed)\n",
    "\n",
    "        ## noise for other 2/3 steps is zero\n",
    "        up_down_mult = np.concatenate((up_down_mult, np.zeros(len(up_down) - len(up_down_mult))))\n",
    "    else:\n",
    "        ## Decrese noise equally for each step from 100% to 0%\n",
    "        up_down_mult = np.arange(len(up_down), 0, step=-1) / len(up_down)\n",
    "\n",
    "    up_down *= up_down_mult\n",
    "\n",
    "\n",
    "    ## ------------------------------------------\n",
    "    random_noise = list(zip(up_down, left_right))\n",
    "    \n",
    "    return random_noise"
   ]
  },
  {
   "cell_type": "code",
   "execution_count": 624,
   "metadata": {},
   "outputs": [],
   "source": [
    "def generate_session(agent, best_reward, t_max=1000):\n",
    "    \"\"\"\n",
    "    Play a single game using agent neural network.\n",
    "    Terminate when game finishes or after :t_max: steps\n",
    "    \"\"\"\n",
    "    env = gym.make(\"LunarLanderContinuous-v2\").env\n",
    "    states, actions = [], []\n",
    "    total_reward = 0\n",
    "\n",
    "    s = env.reset()\n",
    "    \n",
    "    bound_low =  env.action_space.low\n",
    "    bound_high = env.action_space.high\n",
    "    \n",
    "    random_noise = make_some_noise(t_max, best_reward)\n",
    "\n",
    "    for t in range(t_max):\n",
    "        a = [min(max(i, j), k) for i,j,k in zip(\n",
    "            agent.predict([s])[0] + random_noise[t], \n",
    "            bound_low, \n",
    "            bound_high)\n",
    "            ]\n",
    "\n",
    "        new_s, r, done, info = env.step(a)\n",
    "\n",
    "        # record sessions like you did before\n",
    "        states.append(s)\n",
    "        actions.append(a)\n",
    "        total_reward += r\n",
    "\n",
    "        s = new_s\n",
    "        if done:\n",
    "            break\n",
    "            \n",
    "    return states, actions, total_reward"
   ]
  },
  {
   "cell_type": "code",
   "execution_count": 552,
   "metadata": {
    "tags": []
   },
   "outputs": [
    {
     "name": "stdout",
     "output_type": "stream",
     "text": [
      "mean reward = 202.900, threshold=279.309\n"
     ]
    },
    {
     "data": {
      "image/png": "[encoded data removed]",
      "text/plain": [
       "<Figure size 1152x288 with 2 Axes>"
      ]
     },
     "metadata": {
      "needs_background": "light"
     },
     "output_type": "display_data"
    },
    {
     "name": "stdout",
     "output_type": "stream",
     "text": [
      "first_win_i=202\n",
      "best_reward=238.12858539954178\n"
     ]
    }
   ],
   "source": [
    "env.reset()\n",
    "\n",
    "from sklearn.neural_network import MLPRegressor\n",
    "\n",
    "agent = MLPRegressor(\n",
    "    hidden_layer_sizes=(400, 200),#(256, 256, 128),\n",
    "    activation='tanh',\n",
    ")\n",
    "\n",
    "agent.partial_fit(\n",
    "    np.zeros(env.observation_space.shape).reshape(1, -1),\n",
    "    np.zeros(env.action_space.shape).reshape(1, -1)\n",
    ")\n",
    "    \n",
    "n_sessions = 100\n",
    "percentile = 75\n",
    "num_of_last_sessions = 2 ## Меньше зависим от рандома. В нейронку попадает в N+1 раз больше элитных сессий, итоговый результат лучше\n",
    "zero_check = 0 if num_of_last_sessions == 0 else 100500  ## На случай, если num_of_last_sessions == 0, не будем сохранять старые сессии\n",
    "log = []\n",
    "\n",
    "cumul_states = []\n",
    "cumul_actions = []\n",
    "cumul_rewards = []\n",
    "\n",
    "is_win = False\n",
    "best_reward = -10000\n",
    "\n",
    "all_steps = 250\n",
    "\n",
    "## Number of max steps for each game. Gradually increasing in each iteration\n",
    "## Don't make it big: all good tries usually end in first hundrends, at it takes A LOT of time to generate thousands of steps\n",
    "t_max_start = 600\n",
    "t_max_end = 800\n",
    "\n",
    "## t_max will be in logspace to speed up first iterations\n",
    "t_max_list = np.logspace(np.log10(t_max_start), np.log10(t_max_end), num=all_steps, dtype='int')\n",
    "    \n",
    "for i in range(all_steps):\n",
    "    sessions = Parallel(n_jobs=-1)(delayed(generate_session)(agent, best_reward, t_max=t_max_list[i]) for _ in range(n_sessions))\n",
    "    \n",
    "    states_batch, actions_batch, rewards_batch = map(lambda session: np.array(session, dtype='object'), zip(*sessions))\n",
    "    \n",
    "    curr_mean_reward = np.mean(rewards_batch)\n",
    "\n",
    "    ## Adding prev N sessions to threshold calculation\n",
    "    cumul_states =  cumul_states[-num_of_last_sessions:zero_check]  + [list(states_batch)]\n",
    "    cumul_actions = cumul_actions[-num_of_last_sessions:zero_check] + [list(actions_batch)]\n",
    "    cumul_rewards = cumul_rewards[-num_of_last_sessions:zero_check] + [list(rewards_batch)]\n",
    "\n",
    "    elite_states, elite_actions = select_elites(\n",
    "        [i for sublist in cumul_states for i in sublist], \n",
    "        [i for sublist in cumul_actions for i in sublist], \n",
    "        [i for sublist in cumul_rewards for i in sublist], \n",
    "        percentile=percentile)\n",
    "    \n",
    "    agent.partial_fit(elite_states, elite_actions)\n",
    "\n",
    "    show_progress(rewards_batch, log, percentile, reward_range=[min(0, np.min(rewards_batch)), np.max(rewards_batch)])\n",
    "\n",
    "    if curr_mean_reward > best_reward:\n",
    "        best_reward = curr_mean_reward\n",
    "        best_agent = agent\n",
    "    \n",
    "    # if np.mean(rewards_batch_curr) > 200:\n",
    "    #     print(f\"You Win! Interrupting. Iteration: {i}\")\n",
    "    #     break\n",
    "    \n",
    "    if (curr_mean_reward > 200) & (~is_win):\n",
    "        first_win_i = i\n",
    "        is_win = True\n",
    "        \n",
    "    gc.collect()\n",
    "\n",
    "print(f'{first_win_i=}')\n",
    "print(f'{best_reward=}')"
   ]
  },
  {
   "cell_type": "code",
   "execution_count": null,
   "metadata": {},
   "outputs": [],
   "source": []
  },
  {
   "cell_type": "code",
   "execution_count": 588,
   "metadata": {},
   "outputs": [
    {
     "name": "stdout",
     "output_type": "stream",
     "text": [
      "285.3290126551005\n",
      "255\n"
     ]
    },
    {
     "data": {
      "image/png": "[encoded data removed]",
      "text/plain": [
       "<Figure size 576x432 with 1 Axes>"
      ]
     },
     "metadata": {
      "needs_background": "light"
     },
     "output_type": "display_data"
    }
   ],
   "source": [
    "from IPython import display\n",
    "\n",
    "plt.figure(figsize=(8, 6))\n",
    "display.clear_output(wait=True)\n",
    "\n",
    "s = env.reset()\n",
    "\n",
    "tr = 0\n",
    "\n",
    "t_max = 800\n",
    "best_reward = 200\n",
    "\n",
    "bound_low =  env.action_space.low\n",
    "bound_high = env.action_space.high\n",
    "\n",
    "random_noise = make_some_noise(t_max, best_reward)\n",
    "\n",
    "## ------------------------------------------\n",
    "## END Same noise as in generate_sessions\n",
    "\n",
    "for t in range(t_max):\n",
    "    plt.gca().clear()\n",
    "    \n",
    "    a = [min(max(i, j), k) for i,j,k in zip(\n",
    "        agent.predict([s])[0] + random_noise[t], \n",
    "        bound_low, \n",
    "        bound_high)\n",
    "        ]\n",
    "    \n",
    "    s, r, done, _ = env.step(a)\n",
    "    tr += r\n",
    "\n",
    "    # Draw game image on display.\n",
    "    plt.imshow(env.render('rgb_array'))\n",
    "    \n",
    "    display.display(plt.gcf())\n",
    "    display.clear_output(wait=True)\n",
    "    # print(a)\n",
    "\n",
    "    if done:\n",
    "        print(\"Well done!\")\n",
    "        break\n",
    "else:\n",
    "    print(\"Time limit exceeded. Try again.\")\n",
    "\n",
    "display.clear_output(wait=True)\n",
    "print(tr)\n",
    "print(t)"
   ]
  },
  {
   "cell_type": "code",
   "execution_count": null,
   "metadata": {},
   "outputs": [],
   "source": []
  },
  {
   "cell_type": "code",
   "execution_count": null,
   "metadata": {},
   "outputs": [],
   "source": []
  },
  {
   "cell_type": "markdown",
   "metadata": {
    "tags": []
   },
   "source": [
    "# Устаревшая версия MountainCar-v0\n",
    "- В ней попробовал сохранять Элитные сессии (а не просто ВСЕ сессии) с предыдущих N шагов\n",
    "- Получается сильное переобучение на \"удачные\" сессии, коими и являются элитные \n",
    "- Чтобы эта устаревшая версия снова заработала, убери из select_elites шаг Flatten и также возвращай элитные реворды"
   ]
  },
  {
   "cell_type": "code",
   "execution_count": 1,
   "metadata": {},
   "outputs": [],
   "source": [
    "import operator\n",
    "\n",
    "def select_elites(states_batch, actions_batch, rewards_batch, percentile=50):\n",
    "    \"\"\"\n",
    "    Select states and actions from games that have rewards >= percentile\n",
    "    :param states_batch: list of lists of states, states_batch[session_i][t]\n",
    "    :param actions_batch: list of lists of actions, actions_batch[session_i][t]\n",
    "    :param rewards_batch: list of rewards, rewards_batch[session_i]\n",
    "    \"\"\"\n",
    "    reward_threshold = np.percentile(rewards_batch, percentile)\n",
    "    \n",
    "    if any(rewards_batch > reward_threshold):\n",
    "        oper = operator.gt ## >\n",
    "    else: \n",
    "        oper = operator.ge ## >=\n",
    "        \n",
    "    elite_states =  [i for i, j in zip(states_batch, rewards_batch) if oper(j, reward_threshold)]\n",
    "    elite_actions = [i for i, j in zip(actions_batch, rewards_batch) if oper(j, reward_threshold)]\n",
    "    elite_rewards = [i for i in rewards_batch if oper(i, reward_threshold)]\n",
    "    \n",
    "    return elite_states, elite_actions, elite_rewards"
   ]
  },
  {
   "cell_type": "code",
   "execution_count": 34,
   "metadata": {
    "tags": []
   },
   "outputs": [
    {
     "name": "stdout",
     "output_type": "stream",
     "text": [
      "mean reward = -113.330, threshold=-104.000\n"
     ]
    },
    {
     "data": {
      "image/png": "[encoded data removed]",
      "text/plain": [
       "<Figure size 576x288 with 2 Axes>"
      ]
     },
     "metadata": {
      "needs_background": "light"
     },
     "output_type": "display_data"
    },
    {
     "name": "stdout",
     "output_type": "stream",
     "text": [
      "67\n",
      "-111.5\n"
     ]
    }
   ],
   "source": [
    "env.reset()\n",
    "\n",
    "agent = MLPClassifier(\n",
    "    hidden_layer_sizes=(20, 20),\n",
    "    activation='tanh',\n",
    "    # learning_rate='adaptive', ## gets way more stable, but doesn't achieve the same best quality and tops at -131.42\n",
    "    # max_iter=150,\n",
    ")\n",
    "agent.partial_fit([env.reset()] * 12, [2]*10 + [1] + [0], [2]*10 + [1] + [0]) # initiate with lots of \"right\" movements\n",
    "\n",
    "n_sessions = 100\n",
    "percentile = 80\n",
    "num_of_last_elites = 2 ## Меньше зависим от рандома. На низких застревает на плато, на высоких начинает сильно переобучаться и расходится \n",
    "zero_check = 0 if num_of_last_elites == 0 else 100500  ## На случай, если num_of_last_elites == 0, не будем сохранять старых элитов\n",
    "log = []\n",
    "\n",
    "prev_elite_states = []\n",
    "prev_elite_actions = []\n",
    "prev_elite_rewards = []\n",
    "\n",
    "is_win = False\n",
    "best_reward = -10000\n",
    "\n",
    "for i in range(120):\n",
    "    # generate new sessions\n",
    "    sessions = Parallel(n_jobs=-1)(delayed(generate_session)(agent, t_max=11000) for _ in range(n_sessions))\n",
    "    \n",
    "    states_batch, actions_batch, rewards_batch = map(np.array, zip(*sessions))\n",
    "    rewards_batch_curr = rewards_batch\n",
    "\n",
    "    ## Adding prev elites to threshold calculation\n",
    "    if i > 0:\n",
    "        states_batch =  [i for sublist in prev_elite_states[-num_of_last_elites:zero_check]  for i in sublist] + list(states_batch)\n",
    "        actions_batch = [i for sublist in prev_elite_actions[-num_of_last_elites:zero_check] for i in sublist] + list(actions_batch)\n",
    "        rewards_batch = [i for sublist in prev_elite_rewards[-num_of_last_elites:zero_check] for i in sublist] + list(rewards_batch)\n",
    "\n",
    "    elite_states, elite_actions, elite_rewards = select_elites(states_batch, actions_batch, rewards_batch, percentile=percentile)\n",
    "\n",
    "    ## Add current elites to last N elites\n",
    "    prev_elite_states =  prev_elite_states[-num_of_last_elites:zero_check]  + [elite_states]\n",
    "    prev_elite_actions = prev_elite_actions[-num_of_last_elites:zero_check] + [elite_actions]\n",
    "    prev_elite_rewards = prev_elite_rewards[-num_of_last_elites:zero_check] + [elite_rewards]\n",
    "    \n",
    "    ## Flatten\n",
    "    elite_states = [i for sublist in prev_elite_states for sublist_x2 in sublist for i in sublist_x2]\n",
    "    elite_actions = [i for sublist in prev_elite_actions for sublist_x2 in sublist for i in sublist_x2]\n",
    "    \n",
    "    agent.partial_fit(elite_states, elite_actions)\n",
    "\n",
    "    show_progress(rewards_batch_curr, log, percentile, reward_range=[min(0, np.min(rewards_batch_curr)), np.max(rewards_batch_curr)])\n",
    "\n",
    "    curr_mean_reward = np.mean(rewards_batch_curr)\n",
    "    if curr_mean_reward > best_reward:\n",
    "        best_reward = curr_mean_reward\n",
    "        best_agent = agent\n",
    "    \n",
    "    # if np.mean(rewards_batch_curr) > -150:\n",
    "    #     print(f\"You Win! Interrupting. Iteration: {i}\")\n",
    "    #     break\n",
    "    \n",
    "    if (curr_mean_reward > -150) & (~is_win):\n",
    "        print(f\"You Win! Iteration: {i}\")\n",
    "        first_win_i = i\n",
    "        is_win = True\n",
    "    \n",
    "    if (curr_mean_reward < -500) & (is_win):\n",
    "        print(f\"Got too unstable! Stopping at iteration: {i}\")\n",
    "        break\n",
    "        \n",
    "print(first_win_i)\n",
    "print(best_reward)"
   ]
  },
  {
   "cell_type": "code",
   "execution_count": 10,
   "metadata": {},
   "outputs": [],
   "source": [
    "## 71 for num_of_last_elites = 5, final -163,    best -113    , got unstable with means down to -2k\n",
    "## 46 for num_of_last_elites = 3, final -131.87, best -123.74\n",
    "## ?? for num_of_last_elites = 2, final -4668,   best -109.17 , got unstable with means down to -5k\n",
    "## 66 for num_of_last_elites = 1, final -131.87, best -131.87"
   ]
  },
  {
   "cell_type": "markdown",
   "metadata": {
    "tags": []
   },
   "source": [
    "# Устаревшая версия LunarLander-v2\n",
    "- Аналогично с тачкой - версия, где сохранял N последних элитных сессий"
   ]
  },
  {
   "cell_type": "code",
   "execution_count": 62,
   "metadata": {
    "tags": []
   },
   "outputs": [
    {
     "name": "stdout",
     "output_type": "stream",
     "text": [
      "mean reward = 60.487, threshold=32.742\n"
     ]
    },
    {
     "data": {
      "image/png": "[encoded data removed]",
      "text/plain": [
       "<Figure size 576x288 with 2 Axes>"
      ]
     },
     "metadata": {
      "needs_background": "light"
     },
     "output_type": "display_data"
    },
    {
     "name": "stdout",
     "output_type": "stream",
     "text": [
      "69\n",
      "79.06038774581022\n"
     ]
    }
   ],
   "source": [
    "from sklearn.neural_network import MLPClassifier\n",
    "\n",
    "env.reset()\n",
    "\n",
    "agent = MLPClassifier(\n",
    "    hidden_layer_sizes= (256, 256, 128), # (256, 256, 128), ## almost works with num_of_last_elites = 0\n",
    "    activation='tanh',\n",
    "    learning_rate='adaptive',\n",
    "    max_iter=250,\n",
    ")\n",
    "agent.partial_fit([env.reset()] * n_actions, list(range(n_actions)), list(range(n_actions))) \n",
    "\n",
    "n_sessions = 100\n",
    "percentile = 50\n",
    "num_of_last_elites = 0 ## Меньше зависим от рандома. На низких застревает на плато, на высоких начинает сильно переобучаться и расходится \n",
    "zero_check = 0 if num_of_last_elites == 0 else 100500  ## На случай, если num_of_last_elites == 0, не будем сохранять старых элитов\n",
    "log = []\n",
    "\n",
    "prev_elite_states = []\n",
    "prev_elite_actions = []\n",
    "prev_elite_rewards = []\n",
    "\n",
    "is_win = False\n",
    "best_reward = -10000\n",
    "\n",
    "for i in range(100):\n",
    "    # generate new sessions\n",
    "    sessions = Parallel(n_jobs=-1)(delayed(generate_session)(agent, t_max=3000) for _ in range(n_sessions))\n",
    "    \n",
    "    states_batch, actions_batch, rewards_batch = map(np.array, zip(*sessions))\n",
    "    rewards_batch_curr = rewards_batch\n",
    "\n",
    "    ## Adding prev elites to threshold calculation\n",
    "    if i > 0:\n",
    "        states_batch =  [i for sublist in prev_elite_states[-num_of_last_elites:zero_check]  for i in sublist] + list(states_batch)\n",
    "        actions_batch = [i for sublist in prev_elite_actions[-num_of_last_elites:zero_check] for i in sublist] + list(actions_batch)\n",
    "        rewards_batch = [i for sublist in prev_elite_rewards[-num_of_last_elites:zero_check] for i in sublist] + list(rewards_batch)\n",
    "\n",
    "    elite_states, elite_actions, elite_rewards = select_elites(states_batch, actions_batch, rewards_batch, percentile=percentile)\n",
    "\n",
    "    ## Add current elites to last N elites\n",
    "    prev_elite_states =  prev_elite_states[-num_of_last_elites:zero_check]  + [elite_states]\n",
    "    prev_elite_actions = prev_elite_actions[-num_of_last_elites:zero_check] + [elite_actions]\n",
    "    prev_elite_rewards = prev_elite_rewards[-num_of_last_elites:zero_check] + [elite_rewards]\n",
    "    \n",
    "    ## Flatten\n",
    "    elite_states = [i for sublist in prev_elite_states for sublist_x2 in sublist for i in sublist_x2]\n",
    "    elite_actions = [i for sublist in prev_elite_actions for sublist_x2 in sublist for i in sublist_x2]\n",
    "    \n",
    "    agent.partial_fit(elite_states, elite_actions)\n",
    "\n",
    "    show_progress(rewards_batch_curr, log, percentile, reward_range=[min(0, np.min(rewards_batch_curr)), np.max(rewards_batch_curr)])\n",
    "\n",
    "    curr_mean_reward = np.mean(rewards_batch_curr)\n",
    "    if curr_mean_reward > best_reward:\n",
    "        best_reward = curr_mean_reward\n",
    "        best_agent = agent\n",
    "    \n",
    "    # if np.mean(rewards_batch_curr) > 50:\n",
    "    #     print(f\"You Win! Interrupting. Iteration: {i}\")\n",
    "    #     break\n",
    "    \n",
    "    if (curr_mean_reward > 50) & (~is_win):\n",
    "        print(f\"You Win! Iteration: {i}\")\n",
    "        first_win_i = i\n",
    "        is_win = True\n",
    "    \n",
    "    if (curr_mean_reward < 0) & (is_win):\n",
    "        print(f\"Got too unstable! Stopping at iteration: {i}\")\n",
    "        break\n",
    "        \n",
    "print(first_win_i)\n",
    "print(best_reward)"
   ]
  }
 ],
 "metadata": {
  "interpreter": {
   "hash": "3038d898c977fa7715b5a49d4a820f97f490205f109045784e00aa4c7d6680b2"
  },
  "kernelspec": {
   "display_name": "rl_learn_v2",
   "language": "python",
   "name": "rl_learn_v2"
  },
  "language_info": {
   "codemirror_mode": {
    "name": "ipython",
    "version": 3
   },
   "file_extension": ".py",
   "mimetype": "text/x-python",
   "name": "python",
   "nbconvert_exporter": "python",
   "pygments_lexer": "ipython3",
   "version": "3.9.7"
  }
 },
 "nbformat": 4,
 "nbformat_minor": 4
}
