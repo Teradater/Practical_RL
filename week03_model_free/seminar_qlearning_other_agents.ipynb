{
 "cells": [
  {
   "cell_type": "markdown",
   "metadata": {},
   "source": [
    "## Q-learning (3 points)\n",
    "\n",
    "This notebook will guide you through implementation of vanilla Q-learning algorithm.\n",
    "\n",
    "You need to implement QLearningAgent (follow instructions for each method) and use it on a number of tests below."
   ]
  },
  {
   "cell_type": "code",
   "execution_count": 1,
   "metadata": {},
   "outputs": [
    {
     "name": "stdout",
     "output_type": "stream",
     "text": [
      "Starting virtual X frame buffer: Xvfb../xvfb: line 24: start-stop-daemon: command not found\n",
      ".\n"
     ]
    }
   ],
   "source": [
    "import sys, os\n",
    "if 'google.colab' in sys.modules and not os.path.exists('.setup_complete'):\n",
    "    !wget -q https://raw.githubusercontent.com/yandexdataschool/Practical_RL/master/setup_colab.sh -O- | bash\n",
    "\n",
    "    !touch .setup_complete\n",
    "\n",
    "# This code creates a virtual display to draw game images on.\n",
    "# It will have no effect if your machine has a monitor.\n",
    "if type(os.environ.get(\"DISPLAY\")) is not str or len(os.environ.get(\"DISPLAY\")) == 0:\n",
    "    !bash ../xvfb start\n",
    "    os.environ['DISPLAY'] = ':1'"
   ]
  },
  {
   "cell_type": "code",
   "execution_count": 1,
   "metadata": {},
   "outputs": [],
   "source": [
    "import numpy as np\n",
    "import matplotlib.pyplot as plt\n",
    "%matplotlib inline"
   ]
  },
  {
   "cell_type": "code",
   "execution_count": 2,
   "metadata": {},
   "outputs": [],
   "source": [
    "from collections import defaultdict\n",
    "import random\n",
    "import math\n",
    "import numpy as np\n",
    "\n",
    "\n",
    "class QLearningAgent:\n",
    "    def __init__(self, alpha, epsilon, discount, get_legal_actions):\n",
    "        \"\"\"\n",
    "        Q-Learning Agent\n",
    "        based on https://inst.eecs.berkeley.edu/~cs188/sp19/projects.html\n",
    "        Instance variables you have access to\n",
    "          - self.epsilon (exploration prob)\n",
    "          - self.alpha (learning rate)\n",
    "          - self.discount (discount rate aka gamma)\n",
    "\n",
    "        Functions you should use\n",
    "          - self.get_legal_actions(state) {state, hashable -> list of actions, each is hashable}\n",
    "            which returns legal actions for a state\n",
    "          - self.get_qvalue(state,action)\n",
    "            which returns Q(state,action)\n",
    "          - self.set_qvalue(state,action,value)\n",
    "            which sets Q(state,action) := value\n",
    "        !!!Important!!!\n",
    "        Note: please avoid using self._qValues directly. \n",
    "            There's a special self.get_qvalue/set_qvalue for that.\n",
    "        \"\"\"\n",
    "\n",
    "        self.get_legal_actions = get_legal_actions\n",
    "        self._qvalues = defaultdict(lambda: defaultdict(lambda: 0))\n",
    "        self.alpha = alpha\n",
    "        self.epsilon = epsilon\n",
    "        self.discount = discount\n",
    "\n",
    "    def get_qvalue(self, state, action):\n",
    "        \"\"\" Returns Q(state,action) \"\"\"\n",
    "        return self._qvalues[state][action]\n",
    "\n",
    "    def set_qvalue(self, state, action, value):\n",
    "        \"\"\" Sets the Qvalue for [state,action] to the given value \"\"\"\n",
    "        self._qvalues[state][action] = value\n",
    "\n",
    "    #---------------------START OF YOUR CODE---------------------#\n",
    "\n",
    "    def get_value(self, state):\n",
    "        \"\"\"\n",
    "        Compute your agent's estimate of V(s) using current q-values\n",
    "        V(s) = max_over_action Q(state,action) over possible actions.\n",
    "        Note: please take into account that q-values can be negative.\n",
    "        \"\"\"\n",
    "        possible_actions = self.get_legal_actions(state)\n",
    "\n",
    "        # If there are no legal actions, return 0.0\n",
    "        if len(possible_actions) == 0:\n",
    "            return 0.0\n",
    "\n",
    "        return max([self.get_qvalue(state, action) for action in possible_actions])\n",
    "\n",
    "\n",
    "    def update(self, state, action, reward, next_state):\n",
    "        \"\"\"\n",
    "        You should do your Q-Value update here:\n",
    "           Q(s,a) := (1 - alpha) * Q(s,a) + alpha * (r + gamma * V(s'))\n",
    "        \"\"\"\n",
    "\n",
    "        # agent parameters\n",
    "        gamma = self.discount\n",
    "        learning_rate = self.alpha\n",
    "\n",
    "        reference_qvalue = reward + gamma * self.get_value(next_state)\n",
    "        updated_qvalue = learning_rate * reference_qvalue + (1 - learning_rate) * self.get_qvalue(state, action)\n",
    "\n",
    "        self.set_qvalue(state, action, updated_qvalue)\n",
    "\n",
    "\n",
    "    def get_best_action(self, state):\n",
    "        \"\"\"\n",
    "        Compute the best action to take in a state (using current q-values). \n",
    "        \"\"\"\n",
    "        possible_actions = self.get_legal_actions(state)\n",
    "\n",
    "        # If there are no legal actions, return None\n",
    "        if len(possible_actions) == 0:\n",
    "            return None\n",
    "\n",
    "        return max(possible_actions, key=lambda action: self.get_qvalue(state, action))\n",
    "\n",
    "\n",
    "    def get_action(self, state):\n",
    "        \"\"\"\n",
    "        Compute the action to take in the current state, including exploration.  \n",
    "        With probability self.epsilon, we should take a random action.\n",
    "            otherwise - the best policy action (self.get_best_action).\n",
    "\n",
    "        Note: To pick randomly from a list, use random.choice(list). \n",
    "              To pick True or False with a given probablity, generate uniform number in [0, 1]\n",
    "              and compare it with your probability\n",
    "        \"\"\"\n",
    "\n",
    "        # Pick Action\n",
    "        possible_actions = self.get_legal_actions(state)\n",
    "\n",
    "        # If there are no legal actions, return None\n",
    "        if len(possible_actions) == 0:\n",
    "            return None\n",
    "\n",
    "        if random.random() < self.epsilon:\n",
    "            return random.choice(possible_actions)\n",
    "        else:\n",
    "            return self.get_best_action(state)"
   ]
  },
  {
   "cell_type": "code",
   "execution_count": 3,
   "metadata": {},
   "outputs": [],
   "source": [
    "class EVSarsaAgent(QLearningAgent):\n",
    "    \"\"\" \n",
    "    An agent that changes some of q-learning functions to implement Expected Value SARSA. \n",
    "    Note: this demo assumes that your implementation of QLearningAgent.update uses get_value(next_state).\n",
    "    If it doesn't, please add\n",
    "        def update(self, state, action, reward, next_state):\n",
    "            and implement it for Expected Value SARSA's V(s')\n",
    "    \"\"\"\n",
    "\n",
    "    def get_value(self, state):\n",
    "        \"\"\" \n",
    "        Returns Vpi for current state under epsilon-greedy policy:\n",
    "          V_{pi}(s) = sum _{over a_i} {pi(a_i | s) * Q(s, a_i)}\n",
    "\n",
    "        Hint: all other methods from QLearningAgent are still accessible.\n",
    "        \"\"\"\n",
    "        possible_actions = self.get_legal_actions(state)\n",
    "\n",
    "        # If there are no legal actions, return 0.0\n",
    "        if len(possible_actions) == 0:\n",
    "            return 0.0\n",
    "\n",
    "        q_values = [self.get_qvalue(state, action) for action in possible_actions]\n",
    "        max_q = np.max(q_values)\n",
    "\n",
    "        ## Представь ситуацию, когда эпсилон = 0.2, действий 4, из них 2 жадных\n",
    "        ## Тогда вероятность каждого из двух случайных действий - 0.05, а двух жадных - 0.45 \n",
    "        ## Жадное действие может случиться и рандомно, поэтому для них + prob_of_random_action\n",
    "        prob_of_random_action = self.epsilon / len(possible_actions)\n",
    "        prob_of_greedy_action = (1 - self.epsilon) / np.sum(q_values == max_q) + prob_of_random_action\n",
    "\n",
    "        return np.sum([q * prob_of_greedy_action \n",
    "                       if q == max_q \n",
    "                       else q * prob_of_random_action \n",
    "                       for q in q_values])\n",
    "\n",
    "    # def get_action(self, state):\n",
    "\n",
    "    #     # Pick Action\n",
    "    #     possible_actions = self.get_legal_actions(state)\n",
    "\n",
    "    #     # If there are no legal actions, return None\n",
    "    #     if len(possible_actions) == 0:\n",
    "    #         return None\n",
    "\n",
    "    #     return self.get_best_action(state)"
   ]
  },
  {
   "cell_type": "code",
   "execution_count": 4,
   "metadata": {},
   "outputs": [],
   "source": [
    "class SoftmaxEVSarsaAgent(QLearningAgent):\n",
    "    def __init__(self, tau, *args, **kwargs):\n",
    "        \"\"\"\n",
    "        Add one more param - Tau.\n",
    "        Tau - at large Tau all probabilities of actions will be similar, \n",
    "            - at small Tau even a small difference in Q(s,ai) makes quite a difference to prob of selecting action ai.\n",
    "        \"\"\"\n",
    "        super(self.__class__, self).__init__(*args, **kwargs)\n",
    "        self.tau = tau\n",
    "\n",
    "\n",
    "    def get_prob_softmax(self, q_values=None, state=None, possible_actions=None):\n",
    "        \"\"\"\n",
    "        Calc softmax for q_values of selected actions for selected state\n",
    "        \"\"\"\n",
    "        if not q_values:\n",
    "            q_values = [self.get_qvalue(state, action) for action in possible_actions]\n",
    "\n",
    "        q_values_softmax = np.exp(np.array(q_values) / self.tau)\n",
    "        q_values_softmax /= np.sum(q_values_softmax)\n",
    "\n",
    "        return q_values_softmax\n",
    "\n",
    "\n",
    "    def get_value(self, state):\n",
    "        \"\"\" \n",
    "        This is what makes SoftmaxEVSarsaAgent special\n",
    "        \"\"\"\n",
    "        possible_actions = self.get_legal_actions(state)\n",
    "\n",
    "        # If there are no legal actions, return 0.0\n",
    "        if len(possible_actions) == 0:\n",
    "            return 0.0\n",
    "\n",
    "        q_values = [self.get_qvalue(state, action) for action in possible_actions]\n",
    "\n",
    "        return np.sum([q * prob for q, prob in zip(q_values, self.get_prob_softmax(q_values=q_values))])\n",
    "\n",
    "\n",
    "    def get_action(self, state):\n",
    "        \"\"\"\n",
    "        Difference - if we make non-greedy action, it will be chosen based on softmax probabilities \n",
    "        \"\"\"\n",
    "        # Pick Action\n",
    "        possible_actions = self.get_legal_actions(state)\n",
    "\n",
    "        # If there are no legal actions, return None\n",
    "        if len(possible_actions) == 0:\n",
    "            return None\n",
    "\n",
    "        # return self.get_best_action(state)\n",
    "\n",
    "        return np.random.choice(possible_actions, p = self.get_prob_softmax(state=state, possible_actions=possible_actions))\n",
    "\n",
    "        # if random.random() < self.epsilon:\n",
    "        #     return np.random.choice(possible_actions, p = self.get_prob_softmax(state=state, possible_actions=possible_actions))\n",
    "        # else:\n",
    "        #     return self.get_best_action(state)"
   ]
  },
  {
   "cell_type": "markdown",
   "metadata": {},
   "source": [
    "### Try it on taxi\n",
    "\n",
    "Here we use the qlearning agent on taxi env from openai gym.\n",
    "You will need to insert a few agent functions here."
   ]
  },
  {
   "cell_type": "code",
   "execution_count": 5,
   "metadata": {},
   "outputs": [],
   "source": [
    "import gym\n",
    "env = gym.make(\"Taxi-v3\")\n",
    "\n",
    "n_actions = env.action_space.n"
   ]
  },
  {
   "cell_type": "code",
   "execution_count": 6,
   "metadata": {},
   "outputs": [],
   "source": [
    "def play_and_train(env, agent, t_max=10**4):\n",
    "    \"\"\"\n",
    "    This function should \n",
    "    - run a full game, actions given by agent's e-greedy policy\n",
    "    - train agent using agent.update(...) whenever it is possible\n",
    "    - return total reward\n",
    "    \"\"\"\n",
    "    total_reward = 0.0\n",
    "    s = env.reset()\n",
    "\n",
    "    for t in range(t_max):\n",
    "        # get agent to pick action given state s.\n",
    "        a = agent.get_action(s)\n",
    "\n",
    "        next_s, r, done, _ = env.step(a)\n",
    "\n",
    "        # train (update) agent for state s\n",
    "        agent.update(s, a, r, next_s)\n",
    "\n",
    "        s = next_s\n",
    "        total_reward += r\n",
    "        if done:\n",
    "            break\n",
    "\n",
    "    return total_reward"
   ]
  },
  {
   "cell_type": "code",
   "execution_count": 23,
   "metadata": {},
   "outputs": [
    {
     "name": "stdout",
     "output_type": "stream",
     "text": [
      "EVSARSA_SM mean reward = 7.16\n",
      "EVSARSA mean reward = 7.4\n",
      "QLEARNING mean reward = 6.89\n"
     ]
    },
    {
     "data": {
      "image/png": "[encoded data removed]",
      "text/plain": [
       "<Figure size 432x288 with 1 Axes>"
      ]
     },
     "metadata": {
      "needs_background": "light"
     },
     "output_type": "display_data"
    }
   ],
   "source": [
    "from IPython.display import clear_output\n",
    "import pandas as pd\n",
    "\n",
    "def moving_average(x, span=100):\n",
    "    return pd.DataFrame({'x': np.asarray(x)}).x.ewm(span=span).mean().values\n",
    "\n",
    "rewards_sarsa_sm, rewards_sarsa, rewards_ql = [], [], []\n",
    "\n",
    "agent_sarsa_sm = SoftmaxEVSarsaAgent(alpha=0.25, epsilon=0.4, discount=0.99,\n",
    "                          get_legal_actions=lambda s: range(n_actions),\n",
    "                          tau=1*1e-1)\n",
    "\n",
    "agent_sarsa = EVSarsaAgent(alpha=0.25, epsilon=0.4, discount=0.99,\n",
    "                           get_legal_actions=lambda s: range(n_actions))\n",
    "\n",
    "agent_ql = QLearningAgent(alpha=0.25, epsilon=0.4, discount=0.99,\n",
    "                          get_legal_actions=lambda s: range(n_actions))\n",
    "\n",
    "for i in range(1001):\n",
    "    rewards_sarsa_sm.append(play_and_train(env, agent_sarsa_sm))\n",
    "    rewards_sarsa.append(play_and_train(env, agent_sarsa))\n",
    "    rewards_ql.append(play_and_train(env, agent_ql))\n",
    "\n",
    "    # agent_sarsa_sm.tau *= 0.999\n",
    "    agent_sarsa_sm.epsilon *= 0.99\n",
    "    agent_sarsa.epsilon *= 0.99\n",
    "    agent_ql.epsilon *= 0.99\n",
    "\n",
    "    if i % 100 == 0:\n",
    "        plt.title(\"epsilon = %s\" % agent_ql.epsilon)\n",
    "        plt.plot(moving_average(rewards_sarsa), label='ev_sarsa')\n",
    "        plt.plot(moving_average(rewards_ql), label='qlearning')\n",
    "        plt.plot(moving_average(rewards_sarsa_sm), label='ev_sarsa_sm')\n",
    "        plt.grid()\n",
    "        plt.legend()\n",
    "        # plt.ylim(-500, 0)\n",
    "\n",
    "        clear_output(True)\n",
    "        print('EVSARSA_SM mean reward =', np.mean(rewards_sarsa_sm[-100:]))\n",
    "        print('EVSARSA mean reward =', np.mean(rewards_sarsa[-100:]))\n",
    "        print('QLEARNING mean reward =', np.mean(rewards_ql[-100:]))\n",
    "        plt.show()"
   ]
  },
  {
   "cell_type": "markdown",
   "metadata": {},
   "source": [
    "# Binarized state spaces\n",
    "\n",
    "Use agent to train efficiently on `CartPole-v0`. This environment has a continuous set of possible states, so you will have to group them into bins somehow.\n",
    "\n",
    "The simplest way is to use `round(x, n_digits)` (or `np.round`) to round a real number to a given amount of digits. The tricky part is to get the `n_digits` right for each state to train effectively.\n",
    "\n",
    "Note that you don't need to convert state to integers, but to __tuples__ of any kind of values."
   ]
  },
  {
   "cell_type": "code",
   "execution_count": 79,
   "metadata": {},
   "outputs": [
    {
     "name": "stdout",
     "output_type": "stream",
     "text": [
      "first state: [-0.02669743 -0.03011741 -0.04893304  0.00292886]\n"
     ]
    }
   ],
   "source": [
    "def make_env():\n",
    "    return gym.make('CartPole-v0').env  # .env unwraps the TimeLimit wrapper\n",
    "\n",
    "env = make_env()\n",
    "n_actions = env.action_space.n\n",
    "\n",
    "print(\"first state: %s\" % (env.reset()))\n",
    "# plt.imshow(env.render('rgb_array'))"
   ]
  },
  {
   "cell_type": "markdown",
   "metadata": {},
   "source": [
    "### Play a few games\n",
    "\n",
    "We need to estimate observation distributions. To do so, we'll play a few games and record all states."
   ]
  },
  {
   "cell_type": "code",
   "execution_count": 25,
   "metadata": {},
   "outputs": [],
   "source": [
    "def visualize_cartpole_observation_distribution(seen_observations):\n",
    "    seen_observations = np.array(seen_observations)\n",
    "    \n",
    "    # The meaning of the observations is documented in\n",
    "    # https://github.com/openai/gym/blob/master/gym/envs/classic_control/cartpole.py\n",
    "\n",
    "    f, axarr = plt.subplots(2, 2, figsize=(16, 9), sharey=True)\n",
    "    for i, title in enumerate(['Cart Position', 'Cart Velocity', 'Pole Angle', 'Pole Velocity At Tip']):\n",
    "        ax = axarr[i // 2, i % 2]\n",
    "        ax.hist(seen_observations[:, i], bins=20)\n",
    "        ax.set_title(title)\n",
    "        xmin, xmax = ax.get_xlim()\n",
    "        ax.set_xlim(min(xmin, -xmax), max(-xmin, xmax))\n",
    "        ax.grid()\n",
    "    f.tight_layout()"
   ]
  },
  {
   "cell_type": "code",
   "execution_count": 28,
   "metadata": {},
   "outputs": [
    {
     "data": {
      "image/png": "[encoded data removed]",
      "text/plain": [
       "<Figure size 1152x648 with 4 Axes>"
      ]
     },
     "metadata": {
      "needs_background": "light"
     },
     "output_type": "display_data"
    }
   ],
   "source": [
    "seen_observations = []\n",
    "for _ in range(1000):\n",
    "    seen_observations.append(env.reset())\n",
    "    done = False\n",
    "    while not done:\n",
    "        s, r, done, _ = env.step(env.action_space.sample())\n",
    "        seen_observations.append(s)\n",
    "\n",
    "visualize_cartpole_observation_distribution(seen_observations)"
   ]
  },
  {
   "cell_type": "markdown",
   "metadata": {},
   "source": [
    "## Binarize environment"
   ]
  },
  {
   "cell_type": "code",
   "execution_count": 80,
   "metadata": {},
   "outputs": [],
   "source": [
    "from gym.core import ObservationWrapper\n",
    "\n",
    "\n",
    "class Binarizer(ObservationWrapper):\n",
    "    def observation(self, state):\n",
    "        # Hint: you can do that with round(x, n_digits).\n",
    "        # You may pick a different n_digits for each dimension.\n",
    "        # state = <YOUR CODE: round state to some amount digits>\n",
    "        \n",
    "        # state = tuple([round(s_i, 2) for s_i in state])\n",
    "\n",
    "        state = tuple([\n",
    "            round(state[0], 1),\n",
    "            round(state[1], 1),\n",
    "            round(state[2], 2),\n",
    "            round(state[3], 1),\n",
    "            ])\n",
    "\n",
    "        # state = tuple([\n",
    "        #     int(10 *state[0]), \n",
    "        #     int(5  *state[1]),\n",
    "        #     int(20 *state[2]),\n",
    "        #     int(5  *state[3]),\n",
    "        #     ])\n",
    "\n",
    "        return state"
   ]
  },
  {
   "cell_type": "code",
   "execution_count": 81,
   "metadata": {},
   "outputs": [],
   "source": [
    "env = Binarizer(make_env())"
   ]
  },
  {
   "cell_type": "code",
   "execution_count": 45,
   "metadata": {},
   "outputs": [
    {
     "data": {
      "image/png": "[encoded data removed]",
      "text/plain": [
       "<Figure size 1152x648 with 4 Axes>"
      ]
     },
     "metadata": {
      "needs_background": "light"
     },
     "output_type": "display_data"
    }
   ],
   "source": [
    "seen_observations = []\n",
    "for _ in range(5000):\n",
    "    seen_observations.append(env.reset())\n",
    "    done = False\n",
    "    while not done:\n",
    "        s, r, done, _ = env.step(env.action_space.sample())\n",
    "        seen_observations.append(s)\n",
    "        if done:\n",
    "            break\n",
    "\n",
    "visualize_cartpole_observation_distribution(seen_observations)"
   ]
  },
  {
   "cell_type": "markdown",
   "metadata": {},
   "source": [
    "## Learn binarized policy\n",
    "\n",
    "Now let's train a policy that uses binarized state space.\n",
    "\n",
    "__Tips:__\n",
    "\n",
    "* Note that increasing the number of digits for one dimension of the observations increases your state space by a factor of $10$.\n",
    "* If your binarization is too fine-grained, your agent will take much longer than 10000 steps to converge. You can either increase the number of iterations and reduce epsilon decay or change binarization. In practice we found that this kind of mistake is rather frequent.\n",
    "* If your binarization is too coarse, your agent may fail to find the optimal policy. In practice we found that on this particular environment this kind of mistake is rare.\n",
    "* **Start with a coarse binarization** and make it more fine-grained if that seems necessary.\n",
    "* Having $10^3$–$10^4$ distinct states is recommended (`len(agent._qvalues)`), but not required.\n",
    "* If things don't work without annealing $\\varepsilon$, consider adding that, but make sure that it doesn't go to zero too quickly.\n",
    "\n",
    "A reasonable agent should attain an average reward of at least 50."
   ]
  },
  {
   "cell_type": "code",
   "execution_count": 70,
   "metadata": {},
   "outputs": [
    {
     "name": "stdout",
     "output_type": "stream",
     "text": [
      "EVSARSA_SM mean reward = 1230.01\n",
      "EVSARSA mean reward = 140.83\n",
      "QLEARNING mean reward = 211.22\n"
     ]
    },
    {
     "data": {
      "image/png": "[encoded data removed]",
      "text/plain": [
       "<Figure size 432x288 with 1 Axes>"
      ]
     },
     "metadata": {
      "needs_background": "light"
     },
     "output_type": "display_data"
    }
   ],
   "source": [
    "from IPython.display import clear_output\n",
    "import pandas as pd\n",
    "\n",
    "def moving_average(x, span=100):\n",
    "    return pd.DataFrame({'x': np.asarray(x)}).x.ewm(span=span).mean().values\n",
    "\n",
    "rewards_sarsa_sm, rewards_sarsa, rewards_ql = [], [], []\n",
    "\n",
    "agent_sarsa_sm = SoftmaxEVSarsaAgent(alpha=0.25, epsilon=0.4, discount=0.999,\n",
    "                          get_legal_actions=lambda s: range(n_actions),\n",
    "                          tau=2.5*1e0)\n",
    "\n",
    "# starting with tau=2.5 and slowly increasing *= 1.0001 gives the best results\n",
    "\n",
    "agent_sarsa = EVSarsaAgent(alpha=0.25, epsilon=0.4, discount=0.99,\n",
    "                           get_legal_actions=lambda s: range(n_actions))\n",
    "\n",
    "agent_ql = QLearningAgent(alpha=0.25, epsilon=0.4, discount=0.99,\n",
    "                          get_legal_actions=lambda s: range(n_actions))\n",
    "\n",
    "for i in range(9000+1):\n",
    "    rewards_sarsa_sm.append(play_and_train(env, agent_sarsa_sm))\n",
    "    rewards_sarsa.append(play_and_train(env, agent_sarsa))\n",
    "    rewards_ql.append(play_and_train(env, agent_ql))\n",
    "\n",
    "    agent_sarsa_sm.tau *= 1.0001\n",
    "    # agent_sarsa_sm.tau *= 0.9999\n",
    "    agent_sarsa_sm.epsilon *= 0.9998\n",
    "    agent_sarsa.epsilon *= 0.9998\n",
    "    agent_ql.epsilon *= 0.9998\n",
    "\n",
    "    if i % 300 == 0:\n",
    "        plt.title(f\"epsilon={round(agent_ql.epsilon, 4)}, tau={round(agent_sarsa_sm.tau, 4)}\")\n",
    "        plt.plot(moving_average(rewards_sarsa), label='ev_sarsa')\n",
    "        plt.plot(moving_average(rewards_ql), label='qlearning')\n",
    "        plt.plot(moving_average(rewards_sarsa_sm), label='ev_sarsa_sm')\n",
    "        plt.grid()\n",
    "        plt.legend()\n",
    "        # plt.ylim(-500, 0)\n",
    "\n",
    "        clear_output(True)\n",
    "        print('EVSARSA_SM mean reward =', np.mean(rewards_sarsa_sm[-100:]))\n",
    "        print('EVSARSA mean reward =', np.mean(rewards_sarsa[-100:]))\n",
    "        print('QLEARNING mean reward =', np.mean(rewards_ql[-100:]))\n",
    "        plt.show()"
   ]
  },
  {
   "cell_type": "code",
   "execution_count": 71,
   "metadata": {},
   "outputs": [
    {
     "name": "stdout",
     "output_type": "stream",
     "text": [
      "Your agent_sarsa_sm has learned 49484 Q-values.\n",
      "Your agent_sarsa has learned 17211 Q-values.\n",
      "Your agent_ql has learned 18340 Q-values.\n"
     ]
    }
   ],
   "source": [
    "print('Your agent_sarsa_sm has learned {} Q-values.'.format(len(agent_sarsa_sm._qvalues)))\n",
    "print('Your agent_sarsa has learned {} Q-values.'.format(len(agent_sarsa._qvalues)))\n",
    "print('Your agent_ql has learned {} Q-values.'.format(len(agent_ql._qvalues)))"
   ]
  },
  {
   "cell_type": "code",
   "execution_count": 7,
   "metadata": {},
   "outputs": [],
   "source": [
    "def play(env, agent, t_max=10**4):\n",
    "    \"\"\"\n",
    "    This function should \n",
    "    - run a full game, actions given by agent's e-greedy policy\n",
    "    - train agent using agent.update(...) whenever it is possible\n",
    "    - return total reward\n",
    "    \"\"\"\n",
    "    total_reward = 0.0\n",
    "    s = env.reset()\n",
    "\n",
    "    for t in range(t_max):\n",
    "        # get agent to pick action given state s.\n",
    "        a = agent.get_action(s)\n",
    "\n",
    "        next_s, r, done, _ = env.step(a)\n",
    "\n",
    "        s = next_s\n",
    "        total_reward += r\n",
    "        if done:\n",
    "            break\n",
    "\n",
    "    return total_reward"
   ]
  },
  {
   "cell_type": "code",
   "execution_count": 77,
   "metadata": {},
   "outputs": [
    {
     "name": "stdout",
     "output_type": "stream",
     "text": [
      "922.16\n",
      "1075.22\n",
      "951.74\n",
      "878.07\n",
      "1087.39\n",
      "1029.62\n",
      "1159.86\n",
      "1116.21\n",
      "749.39\n",
      "1036.16\n"
     ]
    }
   ],
   "source": [
    "for _ in range(10):\n",
    "    tst_rewards = []\n",
    "    for _ in range(100):\n",
    "        tst_rewards.append(play(env, agent_sarsa_sm))\n",
    "        # tst_rewards.append(play(env, agent_sarsa))\n",
    "        # tst_rewards.append(play(env, agent_ql))\n",
    "\n",
    "    print(np.mean(tst_rewards))"
   ]
  },
  {
   "cell_type": "markdown",
   "metadata": {},
   "source": [
    "# With replays!"
   ]
  },
  {
   "cell_type": "code",
   "execution_count": 77,
   "metadata": {},
   "outputs": [],
   "source": [
    "import random\n",
    "\n",
    "class ReplayBuffer(object):\n",
    "    def __init__(self, size):\n",
    "        \"\"\"\n",
    "        Create Replay buffer.\n",
    "        Parameters\n",
    "        ----------\n",
    "        size: int\n",
    "            Max number of transitions to store in the buffer. When the buffer\n",
    "            overflows the old memories are dropped.\n",
    "        \"\"\"\n",
    "        self._storage = np.empty([0,5])\n",
    "        self._maxsize = size\n",
    "\n",
    "    def __len__(self):\n",
    "        return len(self._storage)\n",
    "\n",
    "    def add(self, obs_t, action, reward, obs_tp1, done):\n",
    "        '''\n",
    "        Make sure, _storage will not exceed _maxsize. \n",
    "        Make sure, FIFO rule is being followed: the oldest examples has to be removed earlier\n",
    "        '''\n",
    "        if len(self._storage) < self._maxsize:\n",
    "            self._storage = np.append(self._storage, [[obs_t, action, reward, obs_tp1, done]], axis = 0)\n",
    "        else:\n",
    "            self._storage = np.append(self._storage[1:,], [[obs_t, action, reward, obs_tp1, done]], axis = 0)\n",
    "\n",
    "    def sample(self, batch_size):\n",
    "        \"\"\"Sample a batch of experiences.\n",
    "        Parameters\n",
    "        ----------\n",
    "        batch_size: int\n",
    "            How many transitions to sample.\n",
    "        Returns\n",
    "        -------\n",
    "        obs_batch: np.array\n",
    "            batch of observations\n",
    "        act_batch: np.array\n",
    "            batch of actions executed given obs_batch\n",
    "        rew_batch: np.array\n",
    "            rewards received as results of executing act_batch\n",
    "        next_obs_batch: np.array\n",
    "            next set of observations seen after executing act_batch\n",
    "        done_mask: np.array\n",
    "            done_mask[i] = 1 if executing act_batch[i] resulted in\n",
    "            the end of an episode and 0 otherwise.\n",
    "        \"\"\"\n",
    "        idxes = np.random.choice(len(self._storage), batch_size)\n",
    "\n",
    "        ## One liner wokrs too, but a bit slower\n",
    "        # return tuple(map(tuple, self._storage[idxes, :].T))\n",
    "    \n",
    "        return (\n",
    "            self._storage[idxes, 0],\n",
    "            self._storage[idxes, 1],\n",
    "            self._storage[idxes, 2],\n",
    "            self._storage[idxes, 3],\n",
    "            self._storage[idxes, 4],\n",
    "        )"
   ]
  },
  {
   "cell_type": "code",
   "execution_count": 78,
   "metadata": {},
   "outputs": [],
   "source": [
    "def play_and_train_with_replay(env, agent, replay=None,\n",
    "                               t_max=10**4, replay_batch_size=32):\n",
    "    \"\"\"\n",
    "    This function should \n",
    "    - run a full game, actions given by agent.get_action(s)\n",
    "    - train agent using agent.update(...) whenever possible\n",
    "    - return total reward\n",
    "    :param replay: ReplayBuffer where agent can store and sample (s,a,r,s',done) tuples.\n",
    "        If None, do not use experience replay\n",
    "    \"\"\"\n",
    "    total_reward = 0.0\n",
    "    s = env.reset()\n",
    "\n",
    "    for t in range(t_max):\n",
    "        # get agent to pick action given state s\n",
    "        # a = <YOUR CODE>\n",
    "        a = agent.get_action(s)\n",
    "\n",
    "        next_s, r, done, _ = env.step(a)\n",
    "\n",
    "        # update agent on current transition. Use agent.update\n",
    "        # <YOUR CODE>\n",
    "        agent.update(s, a, r, next_s)\n",
    "\n",
    "        if replay is not None:\n",
    "            # store current <s,a,r,s'> transition in buffer\n",
    "            # <YOUR CODE>\n",
    "            replay.add(s, a, r, next_s, done)\n",
    "\n",
    "            # sample replay_batch_size random transitions from replay,\n",
    "            # then update agent on each of them in a loop\n",
    "            s_, a_, r_, next_s_, done_ = replay.sample(replay_batch_size)\n",
    "            for i in range(replay_batch_size):\n",
    "                # <YOUR CODE>\n",
    "                # if done_[i] == 0:\n",
    "                agent.update(s_[i], a_[i], r_[i], next_s_[i])\n",
    "\n",
    "        s = next_s\n",
    "        total_reward += r\n",
    "        if done:\n",
    "            break\n",
    "\n",
    "    return total_reward"
   ]
  },
  {
   "cell_type": "code",
   "execution_count": 84,
   "metadata": {},
   "outputs": [
    {
     "name": "stdout",
     "output_type": "stream",
     "text": [
      "EVSARSA_SM mean reward = 1702.31\n",
      "EVSARSA mean reward = 7437.16\n",
      "QLEARNING mean reward = 3519.26\n"
     ]
    },
    {
     "data": {
      "image/png": "[encoded data removed]",
      "text/plain": [
       "<Figure size 432x288 with 1 Axes>"
      ]
     },
     "metadata": {
      "needs_background": "light"
     },
     "output_type": "display_data"
    }
   ],
   "source": [
    "from IPython.display import clear_output\n",
    "import pandas as pd\n",
    "\n",
    "def moving_average(x, span=100):\n",
    "    return pd.DataFrame({'x': np.asarray(x)}).x.ewm(span=span).mean().values\n",
    "\n",
    "rewards_sarsa_sm, rewards_sarsa, rewards_ql = [], [], []\n",
    "\n",
    "agent_sarsa_sm = SoftmaxEVSarsaAgent(alpha=0.25, epsilon=0.4, discount=0.999,\n",
    "                          get_legal_actions=lambda s: range(n_actions),\n",
    "                          tau=2.5*1e0)\n",
    "\n",
    "# starting with tau=2.5 and slowly increasing *= 1.0001 gives the best results\n",
    "\n",
    "agent_sarsa = EVSarsaAgent(alpha=0.25, epsilon=0.4, discount=0.99,\n",
    "                           get_legal_actions=lambda s: range(n_actions))\n",
    "\n",
    "agent_ql = QLearningAgent(alpha=0.25, epsilon=0.4, discount=0.99,\n",
    "                          get_legal_actions=lambda s: range(n_actions))\n",
    "\n",
    "replay = ReplayBuffer(1000)\n",
    "\n",
    "for i in range(9000+1):\n",
    "    rewards_sarsa_sm.append(play_and_train_with_replay(env, agent_sarsa_sm, replay))\n",
    "    rewards_sarsa.append(play_and_train_with_replay(env, agent_sarsa, replay))\n",
    "    rewards_ql.append(play_and_train_with_replay(env, agent_ql, replay))\n",
    "\n",
    "    agent_sarsa_sm.tau *= 1.0001\n",
    "    # agent_sarsa_sm.tau *= 0.9999\n",
    "    agent_sarsa_sm.epsilon *= 0.9998\n",
    "    agent_sarsa.epsilon *= 0.9998\n",
    "    agent_ql.epsilon *= 0.9998\n",
    "\n",
    "    if i % 300 == 0:\n",
    "        plt.title(f\"epsilon={agent_ql.epsilon:.4f}, tau={agent_sarsa_sm.tau:.4f}\")\n",
    "        plt.plot(moving_average(rewards_sarsa), label='ev_sarsa')\n",
    "        plt.plot(moving_average(rewards_ql), label='qlearning')\n",
    "        plt.plot(moving_average(rewards_sarsa_sm), label='ev_sarsa_sm')\n",
    "        plt.grid()\n",
    "        plt.legend()\n",
    "        # plt.ylim(-500, 0)\n",
    "\n",
    "        clear_output(True)\n",
    "        print('EVSARSA_SM mean reward =', np.mean(rewards_sarsa_sm[-100:]))\n",
    "        print('EVSARSA mean reward =', np.mean(rewards_sarsa[-100:]))\n",
    "        print('QLEARNING mean reward =', np.mean(rewards_ql[-100:]))\n",
    "        plt.show()"
   ]
  },
  {
   "cell_type": "code",
   "execution_count": 85,
   "metadata": {},
   "outputs": [
    {
     "name": "stdout",
     "output_type": "stream",
     "text": [
      "Your agent_sarsa_sm has learned 114987 Q-values.\n",
      "Your agent_sarsa has learned 115309 Q-values.\n",
      "Your agent_ql has learned 103863 Q-values.\n"
     ]
    }
   ],
   "source": [
    "print('Your agent_sarsa_sm has learned {} Q-values.'.format(len(agent_sarsa_sm._qvalues)))\n",
    "print('Your agent_sarsa has learned {} Q-values.'.format(len(agent_sarsa._qvalues)))\n",
    "print('Your agent_ql has learned {} Q-values.'.format(len(agent_ql._qvalues)))"
   ]
  },
  {
   "cell_type": "code",
   "execution_count": 87,
   "metadata": {},
   "outputs": [
    {
     "name": "stdout",
     "output_type": "stream",
     "text": [
      "7809.61\n",
      "7968.76\n",
      "7503.91\n",
      "7472.57\n",
      "7947.28\n",
      "6903.08\n",
      "7907.37\n",
      "8178.74\n",
      "8451.82\n",
      "7533.19\n"
     ]
    }
   ],
   "source": [
    "for _ in range(10):\n",
    "    tst_rewards = []\n",
    "    for _ in range(100):\n",
    "        # tst_rewards.append(play(env, agent_sarsa_sm))\n",
    "        tst_rewards.append(play(env, agent_sarsa))\n",
    "        # tst_rewards.append(play(env, agent_ql))\n",
    "\n",
    "    print(np.mean(tst_rewards))"
   ]
  },
  {
   "cell_type": "code",
   "execution_count": 97,
   "metadata": {},
   "outputs": [
    {
     "name": "stdout",
     "output_type": "stream",
     "text": [
      "10000.0\n"
     ]
    }
   ],
   "source": [
    "total_reward = 0.0\n",
    "s = env.reset()\n",
    "\n",
    "for t in range(10**4):\n",
    "    a = agent_sarsa.get_action(s)\n",
    "    s, r, done, _ = env.step(a)\n",
    "    total_reward += r\n",
    "    if done:\n",
    "        break\n",
    "\n",
    "    env.render('rgb_array')\n",
    "    \n",
    "print(total_reward)"
   ]
  },
  {
   "cell_type": "code",
   "execution_count": null,
   "metadata": {},
   "outputs": [],
   "source": []
  }
 ],
 "metadata": {
  "interpreter": {
   "hash": "3038d898c977fa7715b5a49d4a820f97f490205f109045784e00aa4c7d6680b2"
  },
  "kernelspec": {
   "display_name": "rl_learn_v2",
   "language": "python",
   "name": "rl_learn_v2"
  },
  "language_info": {
   "codemirror_mode": {
    "name": "ipython",
    "version": 3
   },
   "file_extension": ".py",
   "mimetype": "text/x-python",
   "name": "python",
   "nbconvert_exporter": "python",
   "pygments_lexer": "ipython3",
   "version": "3.9.7"
  }
 },
 "nbformat": 4,
 "nbformat_minor": 4
}
